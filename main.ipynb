{
 "cells": [
  {
   "cell_type": "code",
   "execution_count": 24,
   "metadata": {},
   "outputs": [],
   "source": [
    "# required libraries\n",
    "library(tidyverse)\n",
    "library(repr)\n",
    "library(tidymodels)\n",
    "options(repr.matrix.max.rows = 6)"
   ]
  },
  {
   "cell_type": "code",
   "execution_count": 25,
   "metadata": {},
   "outputs": [
    {
     "name": "stderr",
     "output_type": "stream",
     "text": [
      "Parsed with column specification:\n",
      "cols(\n",
      "  .default = col_double(),\n",
      "  Country = \u001b[31mcol_character()\u001b[39m,\n",
      "  Region = \u001b[31mcol_character()\u001b[39m,\n",
      "  `GDP per Capita` = \u001b[31mcol_character()\u001b[39m,\n",
      "  `Data Quality` = \u001b[31mcol_character()\u001b[39m\n",
      ")\n",
      "\n",
      "See spec(...) for full column specifications.\n",
      "\n"
     ]
    }
   ],
   "source": [
    "# importing untidy data set\n",
    "countries_raw_data <- read_csv(\"countries.csv\")\n",
    "\n",
    "#the folliwning steps aim to tidy the data set\n",
    "\n",
    "\n",
    "#renaming columns of interest so that they are underline-separated\n",
    "\n",
    "names(countries_raw_data)[names(countries_raw_data) == \"GDP per Capita\"] <- \"GDP_per_capita\"\n",
    "names(countries_raw_data)[names(countries_raw_data) == \"Cropland Footprint\"] <- \"cropland_footprint\"\n",
    "names(countries_raw_data)[names(countries_raw_data) == \"Grazing Footprint\"] <- \"grazing_footprint\"\n",
    "names(countries_raw_data)[names(countries_raw_data) == \"Forest Footprint\"] <- \"forest_footprint\"\n",
    "names(countries_raw_data)[names(countries_raw_data) == \"Fish Footprint\"] <- \"fish_footprint\""
   ]
  },
  {
   "cell_type": "code",
   "execution_count": 26,
   "metadata": {},
   "outputs": [
    {
     "data": {
      "text/html": [
       "<table>\n",
       "<caption>A tibble: 163 × 6</caption>\n",
       "<thead>\n",
       "\t<tr><th scope=col>Country</th><th scope=col>GDP_per_capita</th><th scope=col>cropland_footprint</th><th scope=col>grazing_footprint</th><th scope=col>forest_footprint</th><th scope=col>fish_footprint</th></tr>\n",
       "\t<tr><th scope=col>&lt;chr&gt;</th><th scope=col>&lt;dbl&gt;</th><th scope=col>&lt;dbl&gt;</th><th scope=col>&lt;dbl&gt;</th><th scope=col>&lt;dbl&gt;</th><th scope=col>&lt;dbl&gt;</th></tr>\n",
       "</thead>\n",
       "<tbody>\n",
       "\t<tr><td>Afghanistan</td><td> 614.66</td><td>0.30</td><td>0.20</td><td>0.08</td><td>0.00</td></tr>\n",
       "\t<tr><td>Albania    </td><td>4534.37</td><td>0.78</td><td>0.22</td><td>0.25</td><td>0.02</td></tr>\n",
       "\t<tr><td>Algeria    </td><td>5430.57</td><td>0.60</td><td>0.16</td><td>0.17</td><td>0.01</td></tr>\n",
       "\t<tr><td>⋮</td><td>⋮</td><td>⋮</td><td>⋮</td><td>⋮</td><td>⋮</td></tr>\n",
       "\t<tr><td>Yemen   </td><td>1302.30</td><td>0.34</td><td>0.14</td><td>0.04</td><td>0.04</td></tr>\n",
       "\t<tr><td>Zambia  </td><td>1740.64</td><td>0.19</td><td>0.18</td><td>0.33</td><td>0.01</td></tr>\n",
       "\t<tr><td>Zimbabwe</td><td> 865.91</td><td>0.20</td><td>0.32</td><td>0.29</td><td>0.01</td></tr>\n",
       "</tbody>\n",
       "</table>\n"
      ],
      "text/latex": [
       "A tibble: 163 × 6\n",
       "\\begin{tabular}{llllll}\n",
       " Country & GDP\\_per\\_capita & cropland\\_footprint & grazing\\_footprint & forest\\_footprint & fish\\_footprint\\\\\n",
       " <chr> & <dbl> & <dbl> & <dbl> & <dbl> & <dbl>\\\\\n",
       "\\hline\n",
       "\t Afghanistan &  614.66 & 0.30 & 0.20 & 0.08 & 0.00\\\\\n",
       "\t Albania     & 4534.37 & 0.78 & 0.22 & 0.25 & 0.02\\\\\n",
       "\t Algeria     & 5430.57 & 0.60 & 0.16 & 0.17 & 0.01\\\\\n",
       "\t ⋮ & ⋮ & ⋮ & ⋮ & ⋮ & ⋮\\\\\n",
       "\t Yemen    & 1302.30 & 0.34 & 0.14 & 0.04 & 0.04\\\\\n",
       "\t Zambia   & 1740.64 & 0.19 & 0.18 & 0.33 & 0.01\\\\\n",
       "\t Zimbabwe &  865.91 & 0.20 & 0.32 & 0.29 & 0.01\\\\\n",
       "\\end{tabular}\n"
      ],
      "text/markdown": [
       "\n",
       "A tibble: 163 × 6\n",
       "\n",
       "| Country &lt;chr&gt; | GDP_per_capita &lt;dbl&gt; | cropland_footprint &lt;dbl&gt; | grazing_footprint &lt;dbl&gt; | forest_footprint &lt;dbl&gt; | fish_footprint &lt;dbl&gt; |\n",
       "|---|---|---|---|---|---|\n",
       "| Afghanistan |  614.66 | 0.30 | 0.20 | 0.08 | 0.00 |\n",
       "| Albania     | 4534.37 | 0.78 | 0.22 | 0.25 | 0.02 |\n",
       "| Algeria     | 5430.57 | 0.60 | 0.16 | 0.17 | 0.01 |\n",
       "| ⋮ | ⋮ | ⋮ | ⋮ | ⋮ | ⋮ |\n",
       "| Yemen    | 1302.30 | 0.34 | 0.14 | 0.04 | 0.04 |\n",
       "| Zambia   | 1740.64 | 0.19 | 0.18 | 0.33 | 0.01 |\n",
       "| Zimbabwe |  865.91 | 0.20 | 0.32 | 0.29 | 0.01 |\n",
       "\n"
      ],
      "text/plain": [
       "    Country     GDP_per_capita cropland_footprint grazing_footprint\n",
       "1   Afghanistan  614.66        0.30               0.20             \n",
       "2   Albania     4534.37        0.78               0.22             \n",
       "3   Algeria     5430.57        0.60               0.16             \n",
       "⋮   ⋮           ⋮              ⋮                  ⋮                \n",
       "161 Yemen       1302.30        0.34               0.14             \n",
       "162 Zambia      1740.64        0.19               0.18             \n",
       "163 Zimbabwe     865.91        0.20               0.32             \n",
       "    forest_footprint fish_footprint\n",
       "1   0.08             0.00          \n",
       "2   0.25             0.02          \n",
       "3   0.17             0.01          \n",
       "⋮   ⋮                ⋮             \n",
       "161 0.04             0.04          \n",
       "162 0.33             0.01          \n",
       "163 0.29             0.01          "
      ]
     },
     "metadata": {},
     "output_type": "display_data"
    }
   ],
   "source": [
    "# selecting columns of interest from the data frame; includes Country name, GDP per Capit, \n",
    "# and ecological footprints of interest to our project\n",
    "countries_GDP_eco <- countries_raw_data %>% select(Country, GDP_per_capita, cropland_footprint, \n",
    "                                                  grazing_footprint, forest_footprint, \n",
    "                                                  fish_footprint)\n",
    "\n",
    "# removing any rows that have an NA cell\n",
    "countries_GDP_eco <- na.omit(countries_GDP_eco)\n",
    "\n",
    "\n",
    "# removing the \"$\" sign and \",\" from all elements of the GDP_per_capita column\n",
    "countries_GDP_eco <-  countries_GDP_eco %>% \n",
    "                         mutate(GDP_per_capita = gsub(\"[^[:alnum:][:space:].]\", \"\",\n",
    "                                                      countries_GDP_eco$GDP_per_capita))\n",
    "\n",
    "# converting GDP_per_capita from a character data type to double\n",
    "\n",
    "countries_GDP_eco <- countries_GDP_eco %>% mutate(GDP_per_capita = as.numeric(GDP_per_capita))\n",
    "countries_GDP_eco"
   ]
  },
  {
   "cell_type": "code",
   "execution_count": 27,
   "metadata": {},
   "outputs": [
    {
     "data": {
      "text/html": [
       "163"
      ],
      "text/latex": [
       "163"
      ],
      "text/markdown": [
       "163"
      ],
      "text/plain": [
       "[1] 163"
      ]
     },
     "metadata": {},
     "output_type": "display_data"
    },
    {
     "data": {
      "text/html": [
       "<table>\n",
       "<caption>A tibble: 163 × 7</caption>\n",
       "<thead>\n",
       "\t<tr><th scope=col>Country</th><th scope=col>GDP_per_capita</th><th scope=col>cropland_footprint</th><th scope=col>grazing_footprint</th><th scope=col>forest_footprint</th><th scope=col>fish_footprint</th><th scope=col>GDP_classified</th></tr>\n",
       "\t<tr><th scope=col>&lt;chr&gt;</th><th scope=col>&lt;dbl&gt;</th><th scope=col>&lt;dbl&gt;</th><th scope=col>&lt;dbl&gt;</th><th scope=col>&lt;dbl&gt;</th><th scope=col>&lt;dbl&gt;</th><th scope=col>&lt;fct&gt;</th></tr>\n",
       "</thead>\n",
       "<tbody>\n",
       "\t<tr><td>Burundi                      </td><td>276.69</td><td>0.21</td><td>0.07</td><td>0.45</td><td>0.00</td><td>low</td></tr>\n",
       "\t<tr><td>Congo, Democratic Republic of</td><td>338.63</td><td>0.15</td><td>0.01</td><td>0.51</td><td>0.01</td><td>low</td></tr>\n",
       "\t<tr><td>Ethiopia                     </td><td>379.38</td><td>0.31</td><td>0.12</td><td>0.46</td><td>0.00</td><td>low</td></tr>\n",
       "\t<tr><td>⋮</td><td>⋮</td><td>⋮</td><td>⋮</td><td>⋮</td><td>⋮</td><td>⋮</td></tr>\n",
       "\t<tr><td>Switzerland</td><td> 88506.2</td><td>0.75</td><td>0.22</td><td>0.38</td><td>0.07</td><td>high</td></tr>\n",
       "\t<tr><td>Qatar      </td><td> 99431.5</td><td>0.57</td><td>0.27</td><td>0.15</td><td>0.19</td><td>high</td></tr>\n",
       "\t<tr><td>Luxembourg </td><td>114665.0</td><td>1.10</td><td>0.76</td><td>1.03</td><td>0.13</td><td>high</td></tr>\n",
       "</tbody>\n",
       "</table>\n"
      ],
      "text/latex": [
       "A tibble: 163 × 7\n",
       "\\begin{tabular}{lllllll}\n",
       " Country & GDP\\_per\\_capita & cropland\\_footprint & grazing\\_footprint & forest\\_footprint & fish\\_footprint & GDP\\_classified\\\\\n",
       " <chr> & <dbl> & <dbl> & <dbl> & <dbl> & <dbl> & <fct>\\\\\n",
       "\\hline\n",
       "\t Burundi                       & 276.69 & 0.21 & 0.07 & 0.45 & 0.00 & low\\\\\n",
       "\t Congo, Democratic Republic of & 338.63 & 0.15 & 0.01 & 0.51 & 0.01 & low\\\\\n",
       "\t Ethiopia                      & 379.38 & 0.31 & 0.12 & 0.46 & 0.00 & low\\\\\n",
       "\t ⋮ & ⋮ & ⋮ & ⋮ & ⋮ & ⋮ & ⋮\\\\\n",
       "\t Switzerland &  88506.2 & 0.75 & 0.22 & 0.38 & 0.07 & high\\\\\n",
       "\t Qatar       &  99431.5 & 0.57 & 0.27 & 0.15 & 0.19 & high\\\\\n",
       "\t Luxembourg  & 114665.0 & 1.10 & 0.76 & 1.03 & 0.13 & high\\\\\n",
       "\\end{tabular}\n"
      ],
      "text/markdown": [
       "\n",
       "A tibble: 163 × 7\n",
       "\n",
       "| Country &lt;chr&gt; | GDP_per_capita &lt;dbl&gt; | cropland_footprint &lt;dbl&gt; | grazing_footprint &lt;dbl&gt; | forest_footprint &lt;dbl&gt; | fish_footprint &lt;dbl&gt; | GDP_classified &lt;fct&gt; |\n",
       "|---|---|---|---|---|---|---|\n",
       "| Burundi                       | 276.69 | 0.21 | 0.07 | 0.45 | 0.00 | low |\n",
       "| Congo, Democratic Republic of | 338.63 | 0.15 | 0.01 | 0.51 | 0.01 | low |\n",
       "| Ethiopia                      | 379.38 | 0.31 | 0.12 | 0.46 | 0.00 | low |\n",
       "| ⋮ | ⋮ | ⋮ | ⋮ | ⋮ | ⋮ | ⋮ |\n",
       "| Switzerland |  88506.2 | 0.75 | 0.22 | 0.38 | 0.07 | high |\n",
       "| Qatar       |  99431.5 | 0.57 | 0.27 | 0.15 | 0.19 | high |\n",
       "| Luxembourg  | 114665.0 | 1.10 | 0.76 | 1.03 | 0.13 | high |\n",
       "\n"
      ],
      "text/plain": [
       "    Country                       GDP_per_capita cropland_footprint\n",
       "1   Burundi                       276.69         0.21              \n",
       "2   Congo, Democratic Republic of 338.63         0.15              \n",
       "3   Ethiopia                      379.38         0.31              \n",
       "⋮   ⋮                             ⋮              ⋮                 \n",
       "161 Switzerland                    88506.2       0.75              \n",
       "162 Qatar                          99431.5       0.57              \n",
       "163 Luxembourg                    114665.0       1.10              \n",
       "    grazing_footprint forest_footprint fish_footprint GDP_classified\n",
       "1   0.07              0.45             0.00           low           \n",
       "2   0.01              0.51             0.01           low           \n",
       "3   0.12              0.46             0.00           low           \n",
       "⋮   ⋮                 ⋮                ⋮              ⋮             \n",
       "161 0.22              0.38             0.07           high          \n",
       "162 0.27              0.15             0.19           high          \n",
       "163 0.76              1.03             0.13           high          "
      ]
     },
     "metadata": {},
     "output_type": "display_data"
    }
   ],
   "source": [
    "# the following steps are for categorizing GDP_per_capita column into \"High\", \"Medium\", and \"low\"\n",
    "\n",
    "# arraning the GDP_per_capita column in an ascending order\n",
    "countries_GDP_eco <- arrange(countries_GDP_eco, GDP_per_capita)\n",
    "\n",
    "#finding the number of rows that exist\n",
    "nrow(countries_GDP_eco)\n",
    "\n",
    "# given that there are about 163 rows, we will categorize the GDP_per_column such that the lowest 54\n",
    "# values (i.e. 1st to 54th row) are assigned to the \"low\" category, \n",
    "# the next 55 values (i.e. 55th to 109th row) are assigned to the \"medium\" category\n",
    "# and the next 54 values (i.e. 110th to 163th row) are assigned to the \"high\" category \n",
    "# so that each category has roughly (163/3) number of elements\n",
    "\n",
    "# creating a new column name GDP_classified where the corresponding GDP_per_capita is assigned either \"low\",\n",
    "# \"medium\" , or \"high\"\n",
    "countries_GDP_eco_classified <- countries_GDP_eco %>% \n",
    "                                        mutate(GDP_classified = cut(countries_GDP_eco$GDP_per_capita, \n",
    "                                                                    breaks = c(276.68, 2379.44, 10123.9, Inf),  \n",
    "                                                                    labels = c(\"low\", \"medium\", \"high\")))\n",
    "\n",
    "countries_GDP_eco_classified"
   ]
  },
  {
   "cell_type": "code",
   "execution_count": 28,
   "metadata": {},
   "outputs": [
    {
     "name": "stdout",
     "output_type": "stream",
     "text": [
      "Rows: 124\n",
      "Columns: 7\n",
      "$ Country            \u001b[3m\u001b[90m<chr>\u001b[39m\u001b[23m \"Burundi\", \"Congo, Democratic Republic of\", \"Ethio…\n",
      "$ GDP_per_capita     \u001b[3m\u001b[90m<dbl>\u001b[39m\u001b[23m 276.69, 338.63, 379.38, 397.38, 410.91, 439.73, 45…\n",
      "$ cropland_footprint \u001b[3m\u001b[90m<dbl>\u001b[39m\u001b[23m 0.21, 0.15, 0.31, 0.23, 0.67, 0.10, 0.39, 0.30, 0.…\n",
      "$ grazing_footprint  \u001b[3m\u001b[90m<dbl>\u001b[39m\u001b[23m 0.07, 0.01, 0.12, 0.03, 0.48, 0.18, 0.32, 0.55, 0.…\n",
      "$ forest_footprint   \u001b[3m\u001b[90m<dbl>\u001b[39m\u001b[23m 0.45, 0.51, 0.46, 0.75, 0.26, 0.06, 0.45, 0.26, 0.…\n",
      "$ fish_footprint     \u001b[3m\u001b[90m<dbl>\u001b[39m\u001b[23m 0.00, 0.01, 0.00, 0.03, 0.02, 0.01, 0.05, 0.02, 0.…\n",
      "$ GDP_classified     \u001b[3m\u001b[90m<fct>\u001b[39m\u001b[23m low, low, low, low, low, low, low, low, low, low, …\n",
      "Rows: 39\n",
      "Columns: 7\n",
      "$ Country            \u001b[3m\u001b[90m<chr>\u001b[39m\u001b[23m \"Madagascar\", \"Malawi\", \"Uganda\", \"Mali\", \"Tajikis…\n",
      "$ GDP_per_capita     \u001b[3m\u001b[90m<dbl>\u001b[39m\u001b[23m 456.33, 493.84, 601.35, 741.22, 836.17, 1161.22, 1…\n",
      "$ cropland_footprint \u001b[3m\u001b[90m<dbl>\u001b[39m\u001b[23m 0.27, 0.43, 0.34, 0.52, 0.46, 0.36, 0.54, 0.34, 0.…\n",
      "$ grazing_footprint  \u001b[3m\u001b[90m<dbl>\u001b[39m\u001b[23m 0.34, 0.05, 0.15, 0.66, 0.14, 0.75, 0.10, 0.01, 1.…\n",
      "$ forest_footprint   \u001b[3m\u001b[90m<dbl>\u001b[39m\u001b[23m 0.24, 0.20, 0.54, 0.17, 0.10, 0.27, 0.21, 0.14, 0.…\n",
      "$ fish_footprint     \u001b[3m\u001b[90m<dbl>\u001b[39m\u001b[23m 0.02, 0.01, 0.11, 0.03, 0.00, 0.01, 0.08, 0.02, 0.…\n",
      "$ GDP_classified     \u001b[3m\u001b[90m<fct>\u001b[39m\u001b[23m low, low, low, low, low, low, low, low, low, low, …\n"
     ]
    },
    {
     "data": {
      "text/html": [
       "<table>\n",
       "<caption>A tibble: 1 × 4</caption>\n",
       "<thead>\n",
       "\t<tr><th scope=col>cropland_footprint</th><th scope=col>grazing_footprint</th><th scope=col>forest_footprint</th><th scope=col>fish_footprint</th></tr>\n",
       "\t<tr><th scope=col>&lt;dbl&gt;</th><th scope=col>&lt;dbl&gt;</th><th scope=col>&lt;dbl&gt;</th><th scope=col>&lt;dbl&gt;</th></tr>\n",
       "</thead>\n",
       "<tbody>\n",
       "\t<tr><td>0.5690323</td><td>0.2671774</td><td>0.3573387</td><td>0.1122581</td></tr>\n",
       "</tbody>\n",
       "</table>\n"
      ],
      "text/latex": [
       "A tibble: 1 × 4\n",
       "\\begin{tabular}{llll}\n",
       " cropland\\_footprint & grazing\\_footprint & forest\\_footprint & fish\\_footprint\\\\\n",
       " <dbl> & <dbl> & <dbl> & <dbl>\\\\\n",
       "\\hline\n",
       "\t 0.5690323 & 0.2671774 & 0.3573387 & 0.1122581\\\\\n",
       "\\end{tabular}\n"
      ],
      "text/markdown": [
       "\n",
       "A tibble: 1 × 4\n",
       "\n",
       "| cropland_footprint &lt;dbl&gt; | grazing_footprint &lt;dbl&gt; | forest_footprint &lt;dbl&gt; | fish_footprint &lt;dbl&gt; |\n",
       "|---|---|---|---|\n",
       "| 0.5690323 | 0.2671774 | 0.3573387 | 0.1122581 |\n",
       "\n"
      ],
      "text/plain": [
       "  cropland_footprint grazing_footprint forest_footprint fish_footprint\n",
       "1 0.5690323          0.2671774         0.3573387        0.1122581     "
      ]
     },
     "metadata": {},
     "output_type": "display_data"
    }
   ],
   "source": [
    "# generating the training and testing data sets. A proportion of 75% was dedicated to the training data set,\n",
    "# and 25% for the testing data set. This was because our data frame had less than 500 rows.\n",
    "\n",
    "set.seed(1)\n",
    "countries_split <- initial_split(countries_GDP_eco_classified, prop = 0.75, strata = GDP_classified)\n",
    "countries_train <- training(countries_split)\n",
    "countries_test <- testing(countries_split)\n",
    "\n",
    "# using the glimpse function we can check whether the desired proportion of 75% and 25% was obtained or not. \n",
    "# in this case, based on the number of rows, we can see that the obtained proportion is roughly the same as\n",
    "# as the desired one.\n",
    "glimpse(countries_train)\n",
    "glimpse(countries_test)\n",
    "\n",
    "\n",
    "\n",
    "# the following steps give a summary of the data, using only the training set. \n",
    "\n",
    "# table giving the means of each of the predictors\n",
    "countries_train_predictors <- countries_train %>% select(cropland_footprint, grazing_footprint, \n",
    "                                                        forest_footprint, fish_footprint)\n",
    "mean_of_predictors <- map_df(countries_train_predictors, mean)\n",
    "mean_of_predictors"
   ]
  },
  {
   "cell_type": "code",
   "execution_count": 29,
   "metadata": {},
   "outputs": [
    {
     "data": {
      "text/html": [
       "0"
      ],
      "text/latex": [
       "0"
      ],
      "text/markdown": [
       "0"
      ],
      "text/plain": [
       "[1] 0"
      ]
     },
     "metadata": {},
     "output_type": "display_data"
    },
    {
     "name": "stderr",
     "output_type": "stream",
     "text": [
      "`summarise()` ungrouping output (override with `.groups` argument)\n",
      "\n"
     ]
    },
    {
     "data": {
      "text/html": [
       "<table>\n",
       "<caption>A tibble: 3 × 2</caption>\n",
       "<thead>\n",
       "\t<tr><th scope=col>GDP_classified</th><th scope=col>Count</th></tr>\n",
       "\t<tr><th scope=col>&lt;fct&gt;</th><th scope=col>&lt;int&gt;</th></tr>\n",
       "</thead>\n",
       "<tbody>\n",
       "\t<tr><td>low   </td><td>41</td></tr>\n",
       "\t<tr><td>medium</td><td>42</td></tr>\n",
       "\t<tr><td>high  </td><td>41</td></tr>\n",
       "</tbody>\n",
       "</table>\n"
      ],
      "text/latex": [
       "A tibble: 3 × 2\n",
       "\\begin{tabular}{ll}\n",
       " GDP\\_classified & Count\\\\\n",
       " <fct> & <int>\\\\\n",
       "\\hline\n",
       "\t low    & 41\\\\\n",
       "\t medium & 42\\\\\n",
       "\t high   & 41\\\\\n",
       "\\end{tabular}\n"
      ],
      "text/markdown": [
       "\n",
       "A tibble: 3 × 2\n",
       "\n",
       "| GDP_classified &lt;fct&gt; | Count &lt;int&gt; |\n",
       "|---|---|\n",
       "| low    | 41 |\n",
       "| medium | 42 |\n",
       "| high   | 41 |\n",
       "\n"
      ],
      "text/plain": [
       "  GDP_classified Count\n",
       "1 low            41   \n",
       "2 medium         42   \n",
       "3 high           41   "
      ]
     },
     "metadata": {},
     "output_type": "display_data"
    }
   ],
   "source": [
    "# finding the number of NA observations in our data set. This number should be zero since we excluded any\n",
    "# NA observation from our data set while tidying the data\n",
    "sum(is.na(countries_train))\n",
    "\n",
    "# table showing the number of observations in each class\n",
    "n_observed_based_GDP_classified <- countries_train %>% group_by(GDP_classified) %>% \n",
    "                                    summarise(Count = n())\n",
    "n_observed_based_GDP_classified"
   ]
  }
 ],
 "metadata": {
  "kernelspec": {
   "display_name": "R",
   "language": "R",
   "name": "ir"
  },
  "language_info": {
   "codemirror_mode": "r",
   "file_extension": ".r",
   "mimetype": "text/x-r-source",
   "name": "R",
   "pygments_lexer": "r",
   "version": "4.0.0"
  }
 },
 "nbformat": 4,
 "nbformat_minor": 4
}
