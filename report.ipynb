{
 "cells": [
  {
   "cell_type": "markdown",
   "metadata": {},
   "source": [
    "<h1>Ecological Consumption and its relationship to GDP</h1>"
   ]
  },
  {
   "cell_type": "markdown",
   "metadata": {},
   "source": [
    "A country’s ecological assets can have a great impact on what it produces in its economy. For example, countries with abundant natural supplies of oil, distribute oil worldwide and it contributes to most of their economic activity. Because of this, we have decided to investigate whether or not the amount of ecological assets a country has impacts their GDP Per Capita. The question we are trying to answer is: Are ecological assets a good predictor of a country’s GDP Per Capita?"
   ]
  },
  {
   "cell_type": "markdown",
   "metadata": {},
   "source": [
    "The data set we will be using is called “2016 Global Ecological Footprint,” by the Global Footprint Network. This dataset contains information about several countries' ecological footprints, with several observations about their ecological assets such as farmland and urban land. It also has the countries GDP per Capita,  which we will categorize and predict in our model."
   ]
  },
  {
   "cell_type": "code",
   "execution_count": 3,
   "metadata": {},
   "outputs": [
    {
     "name": "stderr",
     "output_type": "stream",
     "text": [
      "── \u001b[1mAttaching packages\u001b[22m ─────────────────────────────────────── tidyverse 1.3.0 ──\n",
      "\n",
      "\u001b[32m✔\u001b[39m \u001b[34mggplot2\u001b[39m 3.3.2     \u001b[32m✔\u001b[39m \u001b[34mpurrr  \u001b[39m 0.3.4\n",
      "\u001b[32m✔\u001b[39m \u001b[34mtibble \u001b[39m 3.0.3     \u001b[32m✔\u001b[39m \u001b[34mdplyr  \u001b[39m 1.0.2\n",
      "\u001b[32m✔\u001b[39m \u001b[34mtidyr  \u001b[39m 1.1.2     \u001b[32m✔\u001b[39m \u001b[34mstringr\u001b[39m 1.4.0\n",
      "\u001b[32m✔\u001b[39m \u001b[34mreadr  \u001b[39m 1.3.1     \u001b[32m✔\u001b[39m \u001b[34mforcats\u001b[39m 0.5.0\n",
      "\n",
      "Warning message:\n",
      "“package ‘ggplot2’ was built under R version 4.0.1”\n",
      "Warning message:\n",
      "“package ‘tibble’ was built under R version 4.0.2”\n",
      "Warning message:\n",
      "“package ‘tidyr’ was built under R version 4.0.2”\n",
      "Warning message:\n",
      "“package ‘dplyr’ was built under R version 4.0.2”\n",
      "── \u001b[1mConflicts\u001b[22m ────────────────────────────────────────── tidyverse_conflicts() ──\n",
      "\u001b[31m✖\u001b[39m \u001b[34mdplyr\u001b[39m::\u001b[32mfilter()\u001b[39m masks \u001b[34mstats\u001b[39m::filter()\n",
      "\u001b[31m✖\u001b[39m \u001b[34mdplyr\u001b[39m::\u001b[32mlag()\u001b[39m    masks \u001b[34mstats\u001b[39m::lag()\n",
      "\n",
      "Warning message:\n",
      "“package ‘tidymodels’ was built under R version 4.0.2”\n",
      "── \u001b[1mAttaching packages\u001b[22m ────────────────────────────────────── tidymodels 0.1.1 ──\n",
      "\n",
      "\u001b[32m✔\u001b[39m \u001b[34mbroom    \u001b[39m 0.7.0      \u001b[32m✔\u001b[39m \u001b[34mrecipes  \u001b[39m 0.1.13\n",
      "\u001b[32m✔\u001b[39m \u001b[34mdials    \u001b[39m 0.0.9      \u001b[32m✔\u001b[39m \u001b[34mrsample  \u001b[39m 0.0.7 \n",
      "\u001b[32m✔\u001b[39m \u001b[34minfer    \u001b[39m 0.5.4      \u001b[32m✔\u001b[39m \u001b[34mtune     \u001b[39m 0.1.1 \n",
      "\u001b[32m✔\u001b[39m \u001b[34mmodeldata\u001b[39m 0.0.2      \u001b[32m✔\u001b[39m \u001b[34mworkflows\u001b[39m 0.2.0 \n",
      "\u001b[32m✔\u001b[39m \u001b[34mparsnip  \u001b[39m 0.1.3      \u001b[32m✔\u001b[39m \u001b[34myardstick\u001b[39m 0.0.7 \n",
      "\n",
      "Warning message:\n",
      "“package ‘broom’ was built under R version 4.0.2”\n",
      "Warning message:\n",
      "“package ‘dials’ was built under R version 4.0.2”\n",
      "Warning message:\n",
      "“package ‘infer’ was built under R version 4.0.3”\n",
      "Warning message:\n",
      "“package ‘modeldata’ was built under R version 4.0.1”\n",
      "Warning message:\n",
      "“package ‘parsnip’ was built under R version 4.0.2”\n",
      "Warning message:\n",
      "“package ‘recipes’ was built under R version 4.0.1”\n",
      "Warning message:\n",
      "“package ‘tune’ was built under R version 4.0.2”\n",
      "Warning message:\n",
      "“package ‘workflows’ was built under R version 4.0.2”\n",
      "Warning message:\n",
      "“package ‘yardstick’ was built under R version 4.0.2”\n",
      "── \u001b[1mConflicts\u001b[22m ───────────────────────────────────────── tidymodels_conflicts() ──\n",
      "\u001b[31m✖\u001b[39m \u001b[34mscales\u001b[39m::\u001b[32mdiscard()\u001b[39m masks \u001b[34mpurrr\u001b[39m::discard()\n",
      "\u001b[31m✖\u001b[39m \u001b[34mdplyr\u001b[39m::\u001b[32mfilter()\u001b[39m   masks \u001b[34mstats\u001b[39m::filter()\n",
      "\u001b[31m✖\u001b[39m \u001b[34mrecipes\u001b[39m::\u001b[32mfixed()\u001b[39m  masks \u001b[34mstringr\u001b[39m::fixed()\n",
      "\u001b[31m✖\u001b[39m \u001b[34mdplyr\u001b[39m::\u001b[32mlag()\u001b[39m      masks \u001b[34mstats\u001b[39m::lag()\n",
      "\u001b[31m✖\u001b[39m \u001b[34myardstick\u001b[39m::\u001b[32mspec()\u001b[39m masks \u001b[34mreadr\u001b[39m::spec()\n",
      "\u001b[31m✖\u001b[39m \u001b[34mrecipes\u001b[39m::\u001b[32mstep()\u001b[39m   masks \u001b[34mstats\u001b[39m::step()\n",
      "\n"
     ]
    }
   ],
   "source": [
    "# required libraries\n",
    "library(tidyverse)\n",
    "library(repr)\n",
    "library(tidymodels)\n",
    "options(repr.matrix.max.rows = 6)"
   ]
  },
  {
   "cell_type": "code",
   "execution_count": 4,
   "metadata": {},
   "outputs": [
    {
     "name": "stderr",
     "output_type": "stream",
     "text": [
      "Parsed with column specification:\n",
      "cols(\n",
      "  .default = col_double(),\n",
      "  Country = \u001b[31mcol_character()\u001b[39m,\n",
      "  Region = \u001b[31mcol_character()\u001b[39m,\n",
      "  `GDP per Capita` = \u001b[31mcol_character()\u001b[39m,\n",
      "  `Data Quality` = \u001b[31mcol_character()\u001b[39m\n",
      ")\n",
      "\n",
      "See spec(...) for full column specifications.\n",
      "\n"
     ]
    }
   ],
   "source": [
    "# importing untidy data set\n",
    "url <- \"https://docs.google.com/spreadsheets/d/e/2PACX-1vR_6ci0B-tyn-2T5ywr5cOSxgtls94IPi3zrpu5z3fNxDyK8R1985IH1Uq3zd253ufZIr8Y1tgxffnq/pub?output=csv\"\n",
    "\n",
    "countries_raw_data <- read_csv(url)\n",
    "\n",
    "#the following steps aim to tidy the data set\n",
    "\n",
    "\n",
    "#renaming columns to make them syntactically valid\n",
    "\n",
    "colnames(countries_raw_data) <- tolower(make.names(colnames(countries_raw_data)))"
   ]
  },
  {
   "cell_type": "markdown",
   "metadata": {},
   "source": [
    "Here we are selecting the columns that we need from the dataframe. This includes the country's name, GDP per Capita, and the ecological footprints."
   ]
  },
  {
   "cell_type": "code",
   "execution_count": 5,
   "metadata": {},
   "outputs": [
    {
     "data": {
      "text/html": [
       "<table>\n",
       "<caption>A tibble: 163 × 7</caption>\n",
       "<thead>\n",
       "\t<tr><th scope=col>country</th><th scope=col>gdp.per.capita</th><th scope=col>cropland.footprint</th><th scope=col>grazing.footprint</th><th scope=col>forest.footprint</th><th scope=col>fish.footprint</th><th scope=col>carbon.footprint</th></tr>\n",
       "\t<tr><th scope=col>&lt;chr&gt;</th><th scope=col>&lt;dbl&gt;</th><th scope=col>&lt;dbl&gt;</th><th scope=col>&lt;dbl&gt;</th><th scope=col>&lt;dbl&gt;</th><th scope=col>&lt;dbl&gt;</th><th scope=col>&lt;dbl&gt;</th></tr>\n",
       "</thead>\n",
       "<tbody>\n",
       "\t<tr><td>Afghanistan</td><td> 614.66</td><td>0.30</td><td>0.20</td><td>0.08</td><td>0.00</td><td>0.18</td></tr>\n",
       "\t<tr><td>Albania    </td><td>4534.37</td><td>0.78</td><td>0.22</td><td>0.25</td><td>0.02</td><td>0.87</td></tr>\n",
       "\t<tr><td>Algeria    </td><td>5430.57</td><td>0.60</td><td>0.16</td><td>0.17</td><td>0.01</td><td>1.14</td></tr>\n",
       "\t<tr><td>⋮</td><td>⋮</td><td>⋮</td><td>⋮</td><td>⋮</td><td>⋮</td><td>⋮</td></tr>\n",
       "\t<tr><td>Yemen   </td><td>1302.30</td><td>0.34</td><td>0.14</td><td>0.04</td><td>0.04</td><td>0.42</td></tr>\n",
       "\t<tr><td>Zambia  </td><td>1740.64</td><td>0.19</td><td>0.18</td><td>0.33</td><td>0.01</td><td>0.24</td></tr>\n",
       "\t<tr><td>Zimbabwe</td><td> 865.91</td><td>0.20</td><td>0.32</td><td>0.29</td><td>0.01</td><td>0.53</td></tr>\n",
       "</tbody>\n",
       "</table>\n"
      ],
      "text/latex": [
       "A tibble: 163 × 7\n",
       "\\begin{tabular}{lllllll}\n",
       " country & gdp.per.capita & cropland.footprint & grazing.footprint & forest.footprint & fish.footprint & carbon.footprint\\\\\n",
       " <chr> & <dbl> & <dbl> & <dbl> & <dbl> & <dbl> & <dbl>\\\\\n",
       "\\hline\n",
       "\t Afghanistan &  614.66 & 0.30 & 0.20 & 0.08 & 0.00 & 0.18\\\\\n",
       "\t Albania     & 4534.37 & 0.78 & 0.22 & 0.25 & 0.02 & 0.87\\\\\n",
       "\t Algeria     & 5430.57 & 0.60 & 0.16 & 0.17 & 0.01 & 1.14\\\\\n",
       "\t ⋮ & ⋮ & ⋮ & ⋮ & ⋮ & ⋮ & ⋮\\\\\n",
       "\t Yemen    & 1302.30 & 0.34 & 0.14 & 0.04 & 0.04 & 0.42\\\\\n",
       "\t Zambia   & 1740.64 & 0.19 & 0.18 & 0.33 & 0.01 & 0.24\\\\\n",
       "\t Zimbabwe &  865.91 & 0.20 & 0.32 & 0.29 & 0.01 & 0.53\\\\\n",
       "\\end{tabular}\n"
      ],
      "text/markdown": [
       "\n",
       "A tibble: 163 × 7\n",
       "\n",
       "| country &lt;chr&gt; | gdp.per.capita &lt;dbl&gt; | cropland.footprint &lt;dbl&gt; | grazing.footprint &lt;dbl&gt; | forest.footprint &lt;dbl&gt; | fish.footprint &lt;dbl&gt; | carbon.footprint &lt;dbl&gt; |\n",
       "|---|---|---|---|---|---|---|\n",
       "| Afghanistan |  614.66 | 0.30 | 0.20 | 0.08 | 0.00 | 0.18 |\n",
       "| Albania     | 4534.37 | 0.78 | 0.22 | 0.25 | 0.02 | 0.87 |\n",
       "| Algeria     | 5430.57 | 0.60 | 0.16 | 0.17 | 0.01 | 1.14 |\n",
       "| ⋮ | ⋮ | ⋮ | ⋮ | ⋮ | ⋮ | ⋮ |\n",
       "| Yemen    | 1302.30 | 0.34 | 0.14 | 0.04 | 0.04 | 0.42 |\n",
       "| Zambia   | 1740.64 | 0.19 | 0.18 | 0.33 | 0.01 | 0.24 |\n",
       "| Zimbabwe |  865.91 | 0.20 | 0.32 | 0.29 | 0.01 | 0.53 |\n",
       "\n"
      ],
      "text/plain": [
       "    country     gdp.per.capita cropland.footprint grazing.footprint\n",
       "1   Afghanistan  614.66        0.30               0.20             \n",
       "2   Albania     4534.37        0.78               0.22             \n",
       "3   Algeria     5430.57        0.60               0.16             \n",
       "⋮   ⋮           ⋮              ⋮                  ⋮                \n",
       "161 Yemen       1302.30        0.34               0.14             \n",
       "162 Zambia      1740.64        0.19               0.18             \n",
       "163 Zimbabwe     865.91        0.20               0.32             \n",
       "    forest.footprint fish.footprint carbon.footprint\n",
       "1   0.08             0.00           0.18            \n",
       "2   0.25             0.02           0.87            \n",
       "3   0.17             0.01           1.14            \n",
       "⋮   ⋮                ⋮              ⋮               \n",
       "161 0.04             0.04           0.42            \n",
       "162 0.33             0.01           0.24            \n",
       "163 0.29             0.01           0.53            "
      ]
     },
     "metadata": {},
     "output_type": "display_data"
    }
   ],
   "source": [
    "countries_GDP_eco <- countries_raw_data %>% select(country, gdp.per.capita, cropland.footprint, \n",
    "                                                  grazing.footprint, forest.footprint, \n",
    "                                                  fish.footprint, carbon.footprint)\n",
    "\n",
    "# removing any rows that have an NA cell\n",
    "countries_GDP_eco <- na.omit(countries_GDP_eco)\n",
    "\n",
    "\n",
    "# removing the \"$\" sign and \",\" from all elements of the gdp.per.capita column\n",
    "countries_GDP_eco <-  countries_GDP_eco %>% \n",
    "                         mutate(gdp.per.capita = gsub(\"[^[:alnum:][:space:].]\", \"\",\n",
    "                                                      countries_GDP_eco$gdp.per.capita))\n",
    "\n",
    "# converting gdp.per.capita from a character data type to double\n",
    "\n",
    "countries_GDP_eco <- countries_GDP_eco %>% mutate(gdp.per.capita = as.numeric(gdp.per.capita))\n",
    "countries_GDP_eco\n",
    "\n",
    "# the following steps are for categorizing the gdp.per.capita column into \"High\", \"Medium\", and \"low\"\n",
    "\n",
    "# arranging the gdp.per.capita column in an ascending order\n",
    "countries_GDP_eco <- arrange(countries_GDP_eco, gdp.per.capita)"
   ]
  },
  {
   "cell_type": "markdown",
   "metadata": {},
   "source": [
    "Given that there are about 163 rows, we will categorize the GDP_per_column such that the lowest 54 values (i.e. 1st to 54th row) are assigned to the \"low\" category, the next 55 values (i.e. 55th to 109th row) are assigned to the \"medium\" category and the next 54 values (i.e. 110th to 163th row) are assigned to the \"high\" category so that each category has roughly (163/3) number of elements.\n",
    "We also classify the GDP into either \"low\", \"medium\", or \"high\". This information was taken by calculating the average\n"
   ]
  },
  {
   "cell_type": "code",
   "execution_count": 6,
   "metadata": {},
   "outputs": [],
   "source": [
    "countries_GDP_eco_classified <- countries_GDP_eco %>% \n",
    "    mutate(GDP_classified = cut(countries_GDP_eco$gdp.per.capita,\n",
    "                                breaks = c(276.68, 2379.44, 10123.9, Inf),\n",
    "                                labels = c(\"low\", \"medium\", \"high\")))"
   ]
  },
  {
   "cell_type": "markdown",
   "metadata": {},
   "source": [
    "We generate the training and testing data sets using our main data set. A proportion of 75% was dedicated to the training data set, and 25% for the testing data set. This was because our data frame had less than 500 rows."
   ]
  },
  {
   "cell_type": "code",
   "execution_count": 7,
   "metadata": {},
   "outputs": [],
   "source": [
    "set.seed(1)\n",
    "countries_split <- initial_split(countries_GDP_eco_classified, prop = 0.75, strata = GDP_classified)\n",
    "countries_train <- training(countries_split)\n",
    "countries_test <- testing(countries_split)"
   ]
  },
  {
   "cell_type": "code",
   "execution_count": 8,
   "metadata": {},
   "outputs": [
    {
     "data": {
      "text/html": [
       "<table>\n",
       "<caption>A tibble: 1 × 5</caption>\n",
       "<thead>\n",
       "\t<tr><th scope=col>cropland.footprint</th><th scope=col>grazing.footprint</th><th scope=col>forest.footprint</th><th scope=col>fish.footprint</th><th scope=col>carbon.footprint</th></tr>\n",
       "\t<tr><th scope=col>&lt;dbl&gt;</th><th scope=col>&lt;dbl&gt;</th><th scope=col>&lt;dbl&gt;</th><th scope=col>&lt;dbl&gt;</th><th scope=col>&lt;dbl&gt;</th></tr>\n",
       "</thead>\n",
       "<tbody>\n",
       "\t<tr><td>0.5690323</td><td>0.2671774</td><td>0.3573387</td><td>0.1122581</td><td>1.814839</td></tr>\n",
       "</tbody>\n",
       "</table>\n"
      ],
      "text/latex": [
       "A tibble: 1 × 5\n",
       "\\begin{tabular}{lllll}\n",
       " cropland.footprint & grazing.footprint & forest.footprint & fish.footprint & carbon.footprint\\\\\n",
       " <dbl> & <dbl> & <dbl> & <dbl> & <dbl>\\\\\n",
       "\\hline\n",
       "\t 0.5690323 & 0.2671774 & 0.3573387 & 0.1122581 & 1.814839\\\\\n",
       "\\end{tabular}\n"
      ],
      "text/markdown": [
       "\n",
       "A tibble: 1 × 5\n",
       "\n",
       "| cropland.footprint &lt;dbl&gt; | grazing.footprint &lt;dbl&gt; | forest.footprint &lt;dbl&gt; | fish.footprint &lt;dbl&gt; | carbon.footprint &lt;dbl&gt; |\n",
       "|---|---|---|---|---|\n",
       "| 0.5690323 | 0.2671774 | 0.3573387 | 0.1122581 | 1.814839 |\n",
       "\n"
      ],
      "text/plain": [
       "  cropland.footprint grazing.footprint forest.footprint fish.footprint\n",
       "1 0.5690323          0.2671774         0.3573387        0.1122581     \n",
       "  carbon.footprint\n",
       "1 1.814839        "
      ]
     },
     "metadata": {},
     "output_type": "display_data"
    }
   ],
   "source": [
    "# the following steps give a summary of the data, using only the training set. \n",
    "\n",
    "# table giving the means of each of the predictors\n",
    "countries_train_predictors <- countries_train %>%\n",
    "    select(cropland.footprint, grazing.footprint, forest.footprint, fish.footprint, carbon.footprint)\n",
    "\n",
    "mean_of_predictors <- map_df(countries_train_predictors, mean)\n",
    "\n",
    "mean_of_predictors"
   ]
  },
  {
   "cell_type": "markdown",
   "metadata": {},
   "source": [
    "We want to create the recipe for our algorithm. We do not have to scale our predictors because the initial data is already scaled. We also want to perform a cross-validation because we want to find the most optimal $k$ value for our k-nn classification. We then want to collect the metrics from the workflow analysis."
   ]
  },
  {
   "cell_type": "code",
   "execution_count": 27,
   "metadata": {},
   "outputs": [
    {
     "data": {
      "text/html": [
       "<table>\n",
       "<caption>A tibble: 18 × 7</caption>\n",
       "<thead>\n",
       "\t<tr><th scope=col>neighbors</th><th scope=col>.metric</th><th scope=col>.estimator</th><th scope=col>mean</th><th scope=col>n</th><th scope=col>std_err</th><th scope=col>.config</th></tr>\n",
       "\t<tr><th scope=col>&lt;int&gt;</th><th scope=col>&lt;chr&gt;</th><th scope=col>&lt;chr&gt;</th><th scope=col>&lt;dbl&gt;</th><th scope=col>&lt;int&gt;</th><th scope=col>&lt;dbl&gt;</th><th scope=col>&lt;chr&gt;</th></tr>\n",
       "</thead>\n",
       "<tbody>\n",
       "\t<tr><td>1</td><td>accuracy</td><td>multiclass</td><td>0.6453333</td><td>5</td><td>0.04087039</td><td>Model1</td></tr>\n",
       "\t<tr><td>1</td><td>roc_auc </td><td>hand_till </td><td>0.7347222</td><td>5</td><td>0.03028208</td><td>Model1</td></tr>\n",
       "\t<tr><td>3</td><td>accuracy</td><td>multiclass</td><td>0.6705926</td><td>5</td><td>0.03627075</td><td>Model2</td></tr>\n",
       "\t<tr><td>⋮</td><td>⋮</td><td>⋮</td><td>⋮</td><td>⋮</td><td>⋮</td><td>⋮</td></tr>\n",
       "\t<tr><td>13</td><td>roc_auc </td><td>hand_till </td><td>0.8509227</td><td>5</td><td>0.01966565</td><td>Model8</td></tr>\n",
       "\t<tr><td>14</td><td>accuracy</td><td>multiclass</td><td>0.6551111</td><td>5</td><td>0.04783956</td><td>Model9</td></tr>\n",
       "\t<tr><td>14</td><td>roc_auc </td><td>hand_till </td><td>0.8520608</td><td>5</td><td>0.02070516</td><td>Model9</td></tr>\n",
       "</tbody>\n",
       "</table>\n"
      ],
      "text/latex": [
       "A tibble: 18 × 7\n",
       "\\begin{tabular}{lllllll}\n",
       " neighbors & .metric & .estimator & mean & n & std\\_err & .config\\\\\n",
       " <int> & <chr> & <chr> & <dbl> & <int> & <dbl> & <chr>\\\\\n",
       "\\hline\n",
       "\t 1 & accuracy & multiclass & 0.6453333 & 5 & 0.04087039 & Model1\\\\\n",
       "\t 1 & roc\\_auc  & hand\\_till  & 0.7347222 & 5 & 0.03028208 & Model1\\\\\n",
       "\t 3 & accuracy & multiclass & 0.6705926 & 5 & 0.03627075 & Model2\\\\\n",
       "\t ⋮ & ⋮ & ⋮ & ⋮ & ⋮ & ⋮ & ⋮\\\\\n",
       "\t 13 & roc\\_auc  & hand\\_till  & 0.8509227 & 5 & 0.01966565 & Model8\\\\\n",
       "\t 14 & accuracy & multiclass & 0.6551111 & 5 & 0.04783956 & Model9\\\\\n",
       "\t 14 & roc\\_auc  & hand\\_till  & 0.8520608 & 5 & 0.02070516 & Model9\\\\\n",
       "\\end{tabular}\n"
      ],
      "text/markdown": [
       "\n",
       "A tibble: 18 × 7\n",
       "\n",
       "| neighbors &lt;int&gt; | .metric &lt;chr&gt; | .estimator &lt;chr&gt; | mean &lt;dbl&gt; | n &lt;int&gt; | std_err &lt;dbl&gt; | .config &lt;chr&gt; |\n",
       "|---|---|---|---|---|---|---|\n",
       "| 1 | accuracy | multiclass | 0.6453333 | 5 | 0.04087039 | Model1 |\n",
       "| 1 | roc_auc  | hand_till  | 0.7347222 | 5 | 0.03028208 | Model1 |\n",
       "| 3 | accuracy | multiclass | 0.6705926 | 5 | 0.03627075 | Model2 |\n",
       "| ⋮ | ⋮ | ⋮ | ⋮ | ⋮ | ⋮ | ⋮ |\n",
       "| 13 | roc_auc  | hand_till  | 0.8509227 | 5 | 0.01966565 | Model8 |\n",
       "| 14 | accuracy | multiclass | 0.6551111 | 5 | 0.04783956 | Model9 |\n",
       "| 14 | roc_auc  | hand_till  | 0.8520608 | 5 | 0.02070516 | Model9 |\n",
       "\n"
      ],
      "text/plain": [
       "   neighbors .metric  .estimator mean      n std_err    .config\n",
       "1  1         accuracy multiclass 0.6453333 5 0.04087039 Model1 \n",
       "2  1         roc_auc  hand_till  0.7347222 5 0.03028208 Model1 \n",
       "3  3         accuracy multiclass 0.6705926 5 0.03627075 Model2 \n",
       "⋮  ⋮         ⋮        ⋮          ⋮         ⋮ ⋮          ⋮      \n",
       "16 13        roc_auc  hand_till  0.8509227 5 0.01966565 Model8 \n",
       "17 14        accuracy multiclass 0.6551111 5 0.04783956 Model9 \n",
       "18 14        roc_auc  hand_till  0.8520608 5 0.02070516 Model9 "
      ]
     },
     "metadata": {},
     "output_type": "display_data"
    }
   ],
   "source": [
    "set.seed(1)\n",
    "#creating our recipe\n",
    "countries_recipe <- recipe(GDP_classified ~ cropland.footprint + grazing.footprint + forest.footprint + \n",
    "                           fish.footprint + carbon.footprint, data = countries_train)\n",
    "\n",
    "#cross-validation\n",
    "countries_vfold <- vfold_cv(countries_train, v = 5, strata = GDP_classified)\n",
    "\n",
    "#specifications for our model\n",
    "knn_tune <- nearest_neighbor(weight_func = \"rectangular\", neighbors = tune()) %>%\n",
    "    set_engine(\"kknn\") %>%\n",
    "    set_mode(\"classification\")\n",
    "\n",
    "#workflow analysis metrics\n",
    "countries_results <- workflow() %>%\n",
    "      add_recipe(countries_recipe) %>%\n",
    "      add_model(knn_tune) %>%\n",
    "      tune_grid(resamples = countries_vfold, grid = 10) %>%\n",
    "      collect_metrics()\n",
    "\n",
    "countries_results"
   ]
  },
  {
   "cell_type": "markdown",
   "metadata": {},
   "source": [
    "The metrics are now used in order to graph out the $k$ value vs the Accuracy Estimate. We use this graph to find the best $k$ value for our dataset."
   ]
  },
  {
   "cell_type": "code",
   "execution_count": 28,
   "metadata": {},
   "outputs": [
    {
     "data": {
      "image/png": "[encoded data removed]",
      "text/plain": [
       "plot without title"
      ]
     },
     "metadata": {
      "image/png": {
       "height": 420,
       "width": 420
      }
     },
     "output_type": "display_data"
    }
   ],
   "source": [
    "#filtering out the metrics to only display accuracy\n",
    "accuracies <- countries_results %>% \n",
    "      filter(.metric == \"accuracy\")\n",
    "\n",
    "#plotting out the k vs accuracy estimate in order to visualize the relationship between them.\n",
    "cross_val_plot <- ggplot(accuracies, aes(x = neighbors, y = mean))+\n",
    "      geom_point() +\n",
    "      geom_line() +\n",
    "      labs(x = \"Neighbors\", y = \"Accuracy Estimate\") +\n",
    "      scale_x_continuous(breaks = seq(0, 14, by = 1)) +\n",
    "      scale_y_continuous(limits = c(0.4, 1.0))\n",
    "\n",
    "cross_val_plot"
   ]
  },
  {
   "cell_type": "markdown",
   "metadata": {},
   "source": [
    "From the graph above we can choose the best $k$ value for our specifications. We will choose the $k$ = 5 value because it seems to be the most accurate and it most likely will not over-fit or under-fit."
   ]
  },
  {
   "cell_type": "code",
   "execution_count": 32,
   "metadata": {},
   "outputs": [],
   "source": [
    "set.seed(2) \n",
    "\n",
    "# creating new knn specification using the k value we got from the graph\n",
    "knn_spec <- nearest_neighbor(weight_func = \"rectangular\", neighbor = 5) %>%\n",
    "    set_engine(\"kknn\") %>%\n",
    "    set_mode(\"classification\")\n",
    "\n",
    "# creating the fit using the training data\n",
    "countries_fit <- workflow() %>%\n",
    "      add_recipe(countries_recipe) %>%\n",
    "      add_model(knn_spec) %>%\n",
    "      fit(data = countries_train)"
   ]
  },
  {
   "cell_type": "code",
   "execution_count": 33,
   "metadata": {},
   "outputs": [
    {
     "data": {
      "text/html": [
       "<table>\n",
       "<caption>A tibble: 39 × 9</caption>\n",
       "<thead>\n",
       "\t<tr><th scope=col>.pred_class</th><th scope=col>country</th><th scope=col>gdp.per.capita</th><th scope=col>cropland.footprint</th><th scope=col>grazing.footprint</th><th scope=col>forest.footprint</th><th scope=col>fish.footprint</th><th scope=col>carbon.footprint</th><th scope=col>GDP_classified</th></tr>\n",
       "\t<tr><th scope=col>&lt;fct&gt;</th><th scope=col>&lt;chr&gt;</th><th scope=col>&lt;dbl&gt;</th><th scope=col>&lt;dbl&gt;</th><th scope=col>&lt;dbl&gt;</th><th scope=col>&lt;dbl&gt;</th><th scope=col>&lt;dbl&gt;</th><th scope=col>&lt;dbl&gt;</th><th scope=col>&lt;fct&gt;</th></tr>\n",
       "</thead>\n",
       "<tbody>\n",
       "\t<tr><td>low</td><td>Madagascar</td><td>456.33</td><td>0.27</td><td>0.34</td><td>0.24</td><td>0.02</td><td>0.07</td><td>low</td></tr>\n",
       "\t<tr><td>low</td><td>Malawi    </td><td>493.84</td><td>0.43</td><td>0.05</td><td>0.20</td><td>0.01</td><td>0.07</td><td>low</td></tr>\n",
       "\t<tr><td>low</td><td>Uganda    </td><td>601.35</td><td>0.34</td><td>0.15</td><td>0.54</td><td>0.11</td><td>0.08</td><td>low</td></tr>\n",
       "\t<tr><td>⋮</td><td>⋮</td><td>⋮</td><td>⋮</td><td>⋮</td><td>⋮</td><td>⋮</td><td>⋮</td><td>⋮</td></tr>\n",
       "\t<tr><td>high</td><td>Belgium                 </td><td>48053.3</td><td>1.15</td><td>0.48</td><td>0.99</td><td>0.12</td><td>4.43</td><td>high</td></tr>\n",
       "\t<tr><td>high</td><td>United States of America</td><td>49725.0</td><td>1.13</td><td>0.30</td><td>0.67</td><td>0.12</td><td>5.90</td><td>high</td></tr>\n",
       "\t<tr><td>high</td><td>Canada                  </td><td>52145.4</td><td>1.46</td><td>0.33</td><td>1.20</td><td>0.12</td><td>5.00</td><td>high</td></tr>\n",
       "</tbody>\n",
       "</table>\n"
      ],
      "text/latex": [
       "A tibble: 39 × 9\n",
       "\\begin{tabular}{lllllllll}\n",
       " .pred\\_class & country & gdp.per.capita & cropland.footprint & grazing.footprint & forest.footprint & fish.footprint & carbon.footprint & GDP\\_classified\\\\\n",
       " <fct> & <chr> & <dbl> & <dbl> & <dbl> & <dbl> & <dbl> & <dbl> & <fct>\\\\\n",
       "\\hline\n",
       "\t low & Madagascar & 456.33 & 0.27 & 0.34 & 0.24 & 0.02 & 0.07 & low\\\\\n",
       "\t low & Malawi     & 493.84 & 0.43 & 0.05 & 0.20 & 0.01 & 0.07 & low\\\\\n",
       "\t low & Uganda     & 601.35 & 0.34 & 0.15 & 0.54 & 0.11 & 0.08 & low\\\\\n",
       "\t ⋮ & ⋮ & ⋮ & ⋮ & ⋮ & ⋮ & ⋮ & ⋮ & ⋮\\\\\n",
       "\t high & Belgium                  & 48053.3 & 1.15 & 0.48 & 0.99 & 0.12 & 4.43 & high\\\\\n",
       "\t high & United States of America & 49725.0 & 1.13 & 0.30 & 0.67 & 0.12 & 5.90 & high\\\\\n",
       "\t high & Canada                   & 52145.4 & 1.46 & 0.33 & 1.20 & 0.12 & 5.00 & high\\\\\n",
       "\\end{tabular}\n"
      ],
      "text/markdown": [
       "\n",
       "A tibble: 39 × 9\n",
       "\n",
       "| .pred_class &lt;fct&gt; | country &lt;chr&gt; | gdp.per.capita &lt;dbl&gt; | cropland.footprint &lt;dbl&gt; | grazing.footprint &lt;dbl&gt; | forest.footprint &lt;dbl&gt; | fish.footprint &lt;dbl&gt; | carbon.footprint &lt;dbl&gt; | GDP_classified &lt;fct&gt; |\n",
       "|---|---|---|---|---|---|---|---|---|\n",
       "| low | Madagascar | 456.33 | 0.27 | 0.34 | 0.24 | 0.02 | 0.07 | low |\n",
       "| low | Malawi     | 493.84 | 0.43 | 0.05 | 0.20 | 0.01 | 0.07 | low |\n",
       "| low | Uganda     | 601.35 | 0.34 | 0.15 | 0.54 | 0.11 | 0.08 | low |\n",
       "| ⋮ | ⋮ | ⋮ | ⋮ | ⋮ | ⋮ | ⋮ | ⋮ | ⋮ |\n",
       "| high | Belgium                  | 48053.3 | 1.15 | 0.48 | 0.99 | 0.12 | 4.43 | high |\n",
       "| high | United States of America | 49725.0 | 1.13 | 0.30 | 0.67 | 0.12 | 5.90 | high |\n",
       "| high | Canada                   | 52145.4 | 1.46 | 0.33 | 1.20 | 0.12 | 5.00 | high |\n",
       "\n"
      ],
      "text/plain": [
       "   .pred_class country                  gdp.per.capita cropland.footprint\n",
       "1  low         Madagascar               456.33         0.27              \n",
       "2  low         Malawi                   493.84         0.43              \n",
       "3  low         Uganda                   601.35         0.34              \n",
       "⋮  ⋮           ⋮                        ⋮              ⋮                 \n",
       "37 high        Belgium                  48053.3        1.15              \n",
       "38 high        United States of America 49725.0        1.13              \n",
       "39 high        Canada                   52145.4        1.46              \n",
       "   grazing.footprint forest.footprint fish.footprint carbon.footprint\n",
       "1  0.34              0.24             0.02           0.07            \n",
       "2  0.05              0.20             0.01           0.07            \n",
       "3  0.15              0.54             0.11           0.08            \n",
       "⋮  ⋮                 ⋮                ⋮              ⋮               \n",
       "37 0.48              0.99             0.12           4.43            \n",
       "38 0.30              0.67             0.12           5.90            \n",
       "39 0.33              1.20             0.12           5.00            \n",
       "   GDP_classified\n",
       "1  low           \n",
       "2  low           \n",
       "3  low           \n",
       "⋮  ⋮             \n",
       "37 high          \n",
       "38 high          \n",
       "39 high          "
      ]
     },
     "metadata": {},
     "output_type": "display_data"
    },
    {
     "data": {
      "text/html": [
       "<table>\n",
       "<caption>A tibble: 2 × 3</caption>\n",
       "<thead>\n",
       "\t<tr><th scope=col>.metric</th><th scope=col>.estimator</th><th scope=col>.estimate</th></tr>\n",
       "\t<tr><th scope=col>&lt;chr&gt;</th><th scope=col>&lt;chr&gt;</th><th scope=col>&lt;dbl&gt;</th></tr>\n",
       "</thead>\n",
       "<tbody>\n",
       "\t<tr><td>accuracy</td><td>multiclass</td><td>0.7179487</td></tr>\n",
       "\t<tr><td>kap     </td><td>multiclass</td><td>0.5769231</td></tr>\n",
       "</tbody>\n",
       "</table>\n"
      ],
      "text/latex": [
       "A tibble: 2 × 3\n",
       "\\begin{tabular}{lll}\n",
       " .metric & .estimator & .estimate\\\\\n",
       " <chr> & <chr> & <dbl>\\\\\n",
       "\\hline\n",
       "\t accuracy & multiclass & 0.7179487\\\\\n",
       "\t kap      & multiclass & 0.5769231\\\\\n",
       "\\end{tabular}\n"
      ],
      "text/markdown": [
       "\n",
       "A tibble: 2 × 3\n",
       "\n",
       "| .metric &lt;chr&gt; | .estimator &lt;chr&gt; | .estimate &lt;dbl&gt; |\n",
       "|---|---|---|\n",
       "| accuracy | multiclass | 0.7179487 |\n",
       "| kap      | multiclass | 0.5769231 |\n",
       "\n"
      ],
      "text/plain": [
       "  .metric  .estimator .estimate\n",
       "1 accuracy multiclass 0.7179487\n",
       "2 kap      multiclass 0.5769231"
      ]
     },
     "metadata": {},
     "output_type": "display_data"
    },
    {
     "data": {
      "text/plain": [
       "          Truth\n",
       "Prediction low medium high\n",
       "    low     10      3    0\n",
       "    medium   2      7    2\n",
       "    high     1      3   11"
      ]
     },
     "metadata": {},
     "output_type": "display_data"
    }
   ],
   "source": [
    "set.seed(2) \n",
    "\n",
    "# predicting the GDP_classified of the test data\n",
    "countries_predictions <- predict(countries_fit, countries_test) %>%\n",
    "    bind_cols(countries_test)\n",
    "\n",
    "countries_predictions\n",
    "\n",
    "# finding the accuracy of the prediction\n",
    "countries_metrics <- countries_predictions %>%\n",
    "    metrics(truth = GDP_classified, estimate = .pred_class)\n",
    "\n",
    "countries_metrics\n",
    "\n",
    "# finding the confusion matrix of the prediction\n",
    "countries_conf_mat <- countries_predictions %>%\n",
    "    conf_mat(truth = GDP_classified, estimate = .pred_class)\n",
    "\n",
    "countries_conf_mat"
   ]
  }
 ],
 "metadata": {
  "kernelspec": {
   "display_name": "R",
   "language": "R",
   "name": "ir"
  },
  "language_info": {
   "codemirror_mode": "r",
   "file_extension": ".r",
   "mimetype": "text/x-r-source",
   "name": "R",
   "pygments_lexer": "r",
   "version": "4.0.0"
  }
 },
 "nbformat": 4,
 "nbformat_minor": 4
}
