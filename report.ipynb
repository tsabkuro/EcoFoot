{
 "cells": [
  {
   "cell_type": "markdown",
   "metadata": {},
   "source": [
    "<h1>Ecological Consumption and its relationship to GDP</h1>"
   ]
  },
  {
   "cell_type": "markdown",
   "metadata": {},
   "source": [
    "A country’s ecological assets can have a great impact on what it produces in its economy. For example, countries with abundant natural supplies of oil, distribute oil worldwide and it contributes to most of their economic activity. Because of this, we have decided to investigate whether or not the amount of ecological assets a country has impacts their GDP Per Capita. The question we are trying to answer is: Are ecological assets a good predictor of a country’s GDP Per Capita?"
   ]
  },
  {
   "cell_type": "markdown",
   "metadata": {},
   "source": [
    "The data set we will be using is called “2016 Global Ecological Footprint,” by the Global Footprint Network. This dataset contains information about several countries' ecological footprints, with several observations about their ecological assets such as farmland and urban land. It also has the countries GDP per Capita,  which we will categorize and predict in our model."
   ]
  },
  {
   "cell_type": "code",
   "execution_count": 2,
   "metadata": {},
   "outputs": [
    {
     "name": "stderr",
     "output_type": "stream",
     "text": [
      "── \u001b[1mAttaching packages\u001b[22m ─────────────────────────────────────── tidyverse 1.3.0 ──\n",
      "\n",
      "\u001b[32m✔\u001b[39m \u001b[34mggplot2\u001b[39m 3.3.2     \u001b[32m✔\u001b[39m \u001b[34mpurrr  \u001b[39m 0.3.4\n",
      "\u001b[32m✔\u001b[39m \u001b[34mtibble \u001b[39m 3.0.3     \u001b[32m✔\u001b[39m \u001b[34mdplyr  \u001b[39m 1.0.2\n",
      "\u001b[32m✔\u001b[39m \u001b[34mtidyr  \u001b[39m 1.1.2     \u001b[32m✔\u001b[39m \u001b[34mstringr\u001b[39m 1.4.0\n",
      "\u001b[32m✔\u001b[39m \u001b[34mreadr  \u001b[39m 1.3.1     \u001b[32m✔\u001b[39m \u001b[34mforcats\u001b[39m 0.5.0\n",
      "\n",
      "Warning message:\n",
      "“package ‘ggplot2’ was built under R version 4.0.1”\n",
      "Warning message:\n",
      "“package ‘tibble’ was built under R version 4.0.2”\n",
      "Warning message:\n",
      "“package ‘tidyr’ was built under R version 4.0.2”\n",
      "Warning message:\n",
      "“package ‘dplyr’ was built under R version 4.0.2”\n",
      "── \u001b[1mConflicts\u001b[22m ────────────────────────────────────────── tidyverse_conflicts() ──\n",
      "\u001b[31m✖\u001b[39m \u001b[34mdplyr\u001b[39m::\u001b[32mfilter()\u001b[39m masks \u001b[34mstats\u001b[39m::filter()\n",
      "\u001b[31m✖\u001b[39m \u001b[34mdplyr\u001b[39m::\u001b[32mlag()\u001b[39m    masks \u001b[34mstats\u001b[39m::lag()\n",
      "\n",
      "Warning message:\n",
      "“package ‘tidymodels’ was built under R version 4.0.2”\n",
      "── \u001b[1mAttaching packages\u001b[22m ────────────────────────────────────── tidymodels 0.1.1 ──\n",
      "\n",
      "\u001b[32m✔\u001b[39m \u001b[34mbroom    \u001b[39m 0.7.0      \u001b[32m✔\u001b[39m \u001b[34mrecipes  \u001b[39m 0.1.13\n",
      "\u001b[32m✔\u001b[39m \u001b[34mdials    \u001b[39m 0.0.9      \u001b[32m✔\u001b[39m \u001b[34mrsample  \u001b[39m 0.0.7 \n",
      "\u001b[32m✔\u001b[39m \u001b[34minfer    \u001b[39m 0.5.4      \u001b[32m✔\u001b[39m \u001b[34mtune     \u001b[39m 0.1.1 \n",
      "\u001b[32m✔\u001b[39m \u001b[34mmodeldata\u001b[39m 0.0.2      \u001b[32m✔\u001b[39m \u001b[34mworkflows\u001b[39m 0.2.0 \n",
      "\u001b[32m✔\u001b[39m \u001b[34mparsnip  \u001b[39m 0.1.3      \u001b[32m✔\u001b[39m \u001b[34myardstick\u001b[39m 0.0.7 \n",
      "\n",
      "Warning message:\n",
      "“package ‘broom’ was built under R version 4.0.2”\n",
      "Warning message:\n",
      "“package ‘dials’ was built under R version 4.0.2”\n",
      "Warning message:\n",
      "“package ‘infer’ was built under R version 4.0.3”\n",
      "Warning message:\n",
      "“package ‘modeldata’ was built under R version 4.0.1”\n",
      "Warning message:\n",
      "“package ‘parsnip’ was built under R version 4.0.2”\n",
      "Warning message:\n",
      "“package ‘recipes’ was built under R version 4.0.1”\n",
      "Warning message:\n",
      "“package ‘tune’ was built under R version 4.0.2”\n",
      "Warning message:\n",
      "“package ‘workflows’ was built under R version 4.0.2”\n",
      "Warning message:\n",
      "“package ‘yardstick’ was built under R version 4.0.2”\n",
      "── \u001b[1mConflicts\u001b[22m ───────────────────────────────────────── tidymodels_conflicts() ──\n",
      "\u001b[31m✖\u001b[39m \u001b[34mscales\u001b[39m::\u001b[32mdiscard()\u001b[39m masks \u001b[34mpurrr\u001b[39m::discard()\n",
      "\u001b[31m✖\u001b[39m \u001b[34mdplyr\u001b[39m::\u001b[32mfilter()\u001b[39m   masks \u001b[34mstats\u001b[39m::filter()\n",
      "\u001b[31m✖\u001b[39m \u001b[34mrecipes\u001b[39m::\u001b[32mfixed()\u001b[39m  masks \u001b[34mstringr\u001b[39m::fixed()\n",
      "\u001b[31m✖\u001b[39m \u001b[34mdplyr\u001b[39m::\u001b[32mlag()\u001b[39m      masks \u001b[34mstats\u001b[39m::lag()\n",
      "\u001b[31m✖\u001b[39m \u001b[34myardstick\u001b[39m::\u001b[32mspec()\u001b[39m masks \u001b[34mreadr\u001b[39m::spec()\n",
      "\u001b[31m✖\u001b[39m \u001b[34mrecipes\u001b[39m::\u001b[32mstep()\u001b[39m   masks \u001b[34mstats\u001b[39m::step()\n",
      "\n",
      "Registered S3 method overwritten by 'GGally':\n",
      "  method from   \n",
      "  +.gg   ggplot2\n",
      "\n"
     ]
    }
   ],
   "source": [
    "# required libraries\n",
    "library(tidyverse)\n",
    "library(repr)\n",
    "library(tidymodels)\n",
    "library(GGally)\n",
    "options(repr.matrix.max.rows = 6)"
   ]
  },
  {
   "cell_type": "code",
   "execution_count": 3,
   "metadata": {},
   "outputs": [
    {
     "name": "stderr",
     "output_type": "stream",
     "text": [
      "Parsed with column specification:\n",
      "cols(\n",
      "  .default = col_double(),\n",
      "  Country = \u001b[31mcol_character()\u001b[39m,\n",
      "  Region = \u001b[31mcol_character()\u001b[39m,\n",
      "  `GDP per Capita` = \u001b[31mcol_character()\u001b[39m,\n",
      "  `Data Quality` = \u001b[31mcol_character()\u001b[39m\n",
      ")\n",
      "\n",
      "See spec(...) for full column specifications.\n",
      "\n"
     ]
    }
   ],
   "source": [
    "# importing untidy data set\n",
    "url <- \"https://docs.google.com/spreadsheets/d/e/2PACX-1vR_6ci0B-tyn-2T5ywr5cOSxgtls94IPi3zrpu5z3fNxDyK8R1985IH1Uq3zd253ufZIr8Y1tgxffnq/pub?output=csv\"\n",
    "\n",
    "countries_raw_data <- read_csv(url)\n",
    "\n",
    "#the following steps aim to tidy the data set\n",
    "\n",
    "\n",
    "#renaming columns to make them syntactically valid\n",
    "\n",
    "colnames(countries_raw_data) <- tolower(make.names(colnames(countries_raw_data)))"
   ]
  },
  {
   "cell_type": "markdown",
   "metadata": {},
   "source": [
    "Here we are selecting the columns that we need from the dataframe. This includes the country's name, GDP per Capita, and the ecological footprints."
   ]
  },
  {
   "cell_type": "code",
   "execution_count": 4,
   "metadata": {},
   "outputs": [
    {
     "data": {
      "text/html": [
       "<table>\n",
       "<caption>A tibble: 163 × 7</caption>\n",
       "<thead>\n",
       "\t<tr><th scope=col>country</th><th scope=col>cropland.footprint</th><th scope=col>grazing.footprint</th><th scope=col>forest.footprint</th><th scope=col>fish.footprint</th><th scope=col>carbon.footprint</th><th scope=col>gdp.per.capita</th></tr>\n",
       "\t<tr><th scope=col>&lt;chr&gt;</th><th scope=col>&lt;dbl&gt;</th><th scope=col>&lt;dbl&gt;</th><th scope=col>&lt;dbl&gt;</th><th scope=col>&lt;dbl&gt;</th><th scope=col>&lt;dbl&gt;</th><th scope=col>&lt;dbl&gt;</th></tr>\n",
       "</thead>\n",
       "<tbody>\n",
       "\t<tr><td>Afghanistan</td><td>0.30</td><td>0.20</td><td>0.08</td><td>0.00</td><td>0.18</td><td> 614.66</td></tr>\n",
       "\t<tr><td>Albania    </td><td>0.78</td><td>0.22</td><td>0.25</td><td>0.02</td><td>0.87</td><td>4534.37</td></tr>\n",
       "\t<tr><td>Algeria    </td><td>0.60</td><td>0.16</td><td>0.17</td><td>0.01</td><td>1.14</td><td>5430.57</td></tr>\n",
       "\t<tr><td>⋮</td><td>⋮</td><td>⋮</td><td>⋮</td><td>⋮</td><td>⋮</td><td>⋮</td></tr>\n",
       "\t<tr><td>Yemen   </td><td>0.34</td><td>0.14</td><td>0.04</td><td>0.04</td><td>0.42</td><td>1302.30</td></tr>\n",
       "\t<tr><td>Zambia  </td><td>0.19</td><td>0.18</td><td>0.33</td><td>0.01</td><td>0.24</td><td>1740.64</td></tr>\n",
       "\t<tr><td>Zimbabwe</td><td>0.20</td><td>0.32</td><td>0.29</td><td>0.01</td><td>0.53</td><td> 865.91</td></tr>\n",
       "</tbody>\n",
       "</table>\n"
      ],
      "text/latex": [
       "A tibble: 163 × 7\n",
       "\\begin{tabular}{lllllll}\n",
       " country & cropland.footprint & grazing.footprint & forest.footprint & fish.footprint & carbon.footprint & gdp.per.capita\\\\\n",
       " <chr> & <dbl> & <dbl> & <dbl> & <dbl> & <dbl> & <dbl>\\\\\n",
       "\\hline\n",
       "\t Afghanistan & 0.30 & 0.20 & 0.08 & 0.00 & 0.18 &  614.66\\\\\n",
       "\t Albania     & 0.78 & 0.22 & 0.25 & 0.02 & 0.87 & 4534.37\\\\\n",
       "\t Algeria     & 0.60 & 0.16 & 0.17 & 0.01 & 1.14 & 5430.57\\\\\n",
       "\t ⋮ & ⋮ & ⋮ & ⋮ & ⋮ & ⋮ & ⋮\\\\\n",
       "\t Yemen    & 0.34 & 0.14 & 0.04 & 0.04 & 0.42 & 1302.30\\\\\n",
       "\t Zambia   & 0.19 & 0.18 & 0.33 & 0.01 & 0.24 & 1740.64\\\\\n",
       "\t Zimbabwe & 0.20 & 0.32 & 0.29 & 0.01 & 0.53 &  865.91\\\\\n",
       "\\end{tabular}\n"
      ],
      "text/markdown": [
       "\n",
       "A tibble: 163 × 7\n",
       "\n",
       "| country &lt;chr&gt; | cropland.footprint &lt;dbl&gt; | grazing.footprint &lt;dbl&gt; | forest.footprint &lt;dbl&gt; | fish.footprint &lt;dbl&gt; | carbon.footprint &lt;dbl&gt; | gdp.per.capita &lt;dbl&gt; |\n",
       "|---|---|---|---|---|---|---|\n",
       "| Afghanistan | 0.30 | 0.20 | 0.08 | 0.00 | 0.18 |  614.66 |\n",
       "| Albania     | 0.78 | 0.22 | 0.25 | 0.02 | 0.87 | 4534.37 |\n",
       "| Algeria     | 0.60 | 0.16 | 0.17 | 0.01 | 1.14 | 5430.57 |\n",
       "| ⋮ | ⋮ | ⋮ | ⋮ | ⋮ | ⋮ | ⋮ |\n",
       "| Yemen    | 0.34 | 0.14 | 0.04 | 0.04 | 0.42 | 1302.30 |\n",
       "| Zambia   | 0.19 | 0.18 | 0.33 | 0.01 | 0.24 | 1740.64 |\n",
       "| Zimbabwe | 0.20 | 0.32 | 0.29 | 0.01 | 0.53 |  865.91 |\n",
       "\n"
      ],
      "text/plain": [
       "    country     cropland.footprint grazing.footprint forest.footprint\n",
       "1   Afghanistan 0.30               0.20              0.08            \n",
       "2   Albania     0.78               0.22              0.25            \n",
       "3   Algeria     0.60               0.16              0.17            \n",
       "⋮   ⋮           ⋮                  ⋮                 ⋮               \n",
       "161 Yemen       0.34               0.14              0.04            \n",
       "162 Zambia      0.19               0.18              0.33            \n",
       "163 Zimbabwe    0.20               0.32              0.29            \n",
       "    fish.footprint carbon.footprint gdp.per.capita\n",
       "1   0.00           0.18              614.66       \n",
       "2   0.02           0.87             4534.37       \n",
       "3   0.01           1.14             5430.57       \n",
       "⋮   ⋮              ⋮                ⋮             \n",
       "161 0.04           0.42             1302.30       \n",
       "162 0.01           0.24             1740.64       \n",
       "163 0.01           0.53              865.91       "
      ]
     },
     "metadata": {},
     "output_type": "display_data"
    }
   ],
   "source": [
    "countries_GDP_eco <- countries_raw_data %>% select(country, cropland.footprint, \n",
    "                                                  grazing.footprint, forest.footprint, \n",
    "                                                  fish.footprint, carbon.footprint, gdp.per.capita)\n",
    "\n",
    "# removing any rows that have an NA cell\n",
    "countries_GDP_eco <- na.omit(countries_GDP_eco)\n",
    "\n",
    "\n",
    "# removing the \"$\" sign and \",\" from all elements of the gdp.per.capita column\n",
    "countries_GDP_eco <-  countries_GDP_eco %>% \n",
    "                         mutate(gdp.per.capita = gsub(\"[^[:alnum:][:space:].]\", \"\",\n",
    "                                                      countries_GDP_eco$gdp.per.capita))\n",
    "\n",
    "# converting gdp.per.capita from a character data type to double\n",
    "\n",
    "countries_GDP_eco <- countries_GDP_eco %>% mutate(gdp.per.capita = as.numeric(gdp.per.capita))\n",
    "countries_GDP_eco\n",
    "\n",
    "# the following steps are for categorizing the gdp.per.capita column into \"High\", \"Medium\", and \"low\"\n",
    "\n",
    "# arranging the gdp.per.capita column in an ascending order\n",
    "countries_GDP_eco <- arrange(countries_GDP_eco, gdp.per.capita)"
   ]
  },
  {
   "cell_type": "markdown",
   "metadata": {},
   "source": [
    "Given that there are about 163 rows, we will categorize the GDP_per_column such that the lowest 40 values (i.e. 1st to 40th row) are assigned to the \"low\" category, the next 41 values (i.e. 40th to 81st row) are assigned to the \"lower middle\" category, the next 41 values (i.e. 81st to 122nd row) are assigned to the \"upper middle\" category, and the remaining rews are assigned to \"high\" so that each category has roughly (163/4) number of elements."
   ]
  },
  {
   "cell_type": "code",
   "execution_count": 7,
   "metadata": {},
   "outputs": [],
   "source": [
    "countries_GDP_eco_classified <- countries_GDP_eco %>% \n",
    "    mutate(GDP_classified = cut(countries_GDP_eco$gdp.per.capita,\n",
    "                                breaks = c(0, 1384.53, 5192.88, 14238.1, Inf),\n",
    "                                labels = c(\"low\", \"lower middle\", \"upper middle\", \"high\")))"
   ]
  },
  {
   "cell_type": "markdown",
   "metadata": {},
   "source": [
    "We generate the training and testing data sets using our main data set. A proportion of 75% was dedicated to the training data set, and 25% for the testing data set. This was because our data frame had less than 500 rows."
   ]
  },
  {
   "cell_type": "code",
   "execution_count": 8,
   "metadata": {},
   "outputs": [],
   "source": [
    "set.seed(1)\n",
    "countries_split <- initial_split(countries_GDP_eco_classified, prop = 0.75, strata = GDP_classified)\n",
    "countries_train <- training(countries_split)\n",
    "countries_test <- testing(countries_split)\n",
    "\n"
   ]
  },
  {
   "cell_type": "code",
   "execution_count": 9,
   "metadata": {},
   "outputs": [
    {
     "name": "stderr",
     "output_type": "stream",
     "text": [
      "`summarise()` ungrouping output (override with `.groups` argument)\n",
      "\n"
     ]
    },
    {
     "data": {
      "text/html": [
       "<table>\n",
       "<caption>A tibble: 4 × 2</caption>\n",
       "<thead>\n",
       "\t<tr><th scope=col>GDP_classified</th><th scope=col>n</th></tr>\n",
       "\t<tr><th scope=col>&lt;fct&gt;</th><th scope=col>&lt;int&gt;</th></tr>\n",
       "</thead>\n",
       "<tbody>\n",
       "\t<tr><td>low         </td><td>30</td></tr>\n",
       "\t<tr><td>lower middle</td><td>31</td></tr>\n",
       "\t<tr><td>upper middle</td><td>31</td></tr>\n",
       "\t<tr><td>high        </td><td>31</td></tr>\n",
       "</tbody>\n",
       "</table>\n"
      ],
      "text/latex": [
       "A tibble: 4 × 2\n",
       "\\begin{tabular}{ll}\n",
       " GDP\\_classified & n\\\\\n",
       " <fct> & <int>\\\\\n",
       "\\hline\n",
       "\t low          & 30\\\\\n",
       "\t lower middle & 31\\\\\n",
       "\t upper middle & 31\\\\\n",
       "\t high         & 31\\\\\n",
       "\\end{tabular}\n"
      ],
      "text/markdown": [
       "\n",
       "A tibble: 4 × 2\n",
       "\n",
       "| GDP_classified &lt;fct&gt; | n &lt;int&gt; |\n",
       "|---|---|\n",
       "| low          | 30 |\n",
       "| lower middle | 31 |\n",
       "| upper middle | 31 |\n",
       "| high         | 31 |\n",
       "\n"
      ],
      "text/plain": [
       "  GDP_classified n \n",
       "1 low            30\n",
       "2 lower middle   31\n",
       "3 upper middle   31\n",
       "4 high           31"
      ]
     },
     "metadata": {},
     "output_type": "display_data"
    },
    {
     "data": {
      "text/html": [
       "<table>\n",
       "<caption>A tibble: 1 × 5</caption>\n",
       "<thead>\n",
       "\t<tr><th scope=col>cropland.footprint</th><th scope=col>grazing.footprint</th><th scope=col>forest.footprint</th><th scope=col>fish.footprint</th><th scope=col>carbon.footprint</th></tr>\n",
       "\t<tr><th scope=col>&lt;dbl&gt;</th><th scope=col>&lt;dbl&gt;</th><th scope=col>&lt;dbl&gt;</th><th scope=col>&lt;dbl&gt;</th><th scope=col>&lt;dbl&gt;</th></tr>\n",
       "</thead>\n",
       "<tbody>\n",
       "\t<tr><td>0.5837398</td><td>0.2373171</td><td>0.3822764</td><td>0.1276423</td><td>1.814146</td></tr>\n",
       "</tbody>\n",
       "</table>\n"
      ],
      "text/latex": [
       "A tibble: 1 × 5\n",
       "\\begin{tabular}{lllll}\n",
       " cropland.footprint & grazing.footprint & forest.footprint & fish.footprint & carbon.footprint\\\\\n",
       " <dbl> & <dbl> & <dbl> & <dbl> & <dbl>\\\\\n",
       "\\hline\n",
       "\t 0.5837398 & 0.2373171 & 0.3822764 & 0.1276423 & 1.814146\\\\\n",
       "\\end{tabular}\n"
      ],
      "text/markdown": [
       "\n",
       "A tibble: 1 × 5\n",
       "\n",
       "| cropland.footprint &lt;dbl&gt; | grazing.footprint &lt;dbl&gt; | forest.footprint &lt;dbl&gt; | fish.footprint &lt;dbl&gt; | carbon.footprint &lt;dbl&gt; |\n",
       "|---|---|---|---|---|\n",
       "| 0.5837398 | 0.2373171 | 0.3822764 | 0.1276423 | 1.814146 |\n",
       "\n"
      ],
      "text/plain": [
       "  cropland.footprint grazing.footprint forest.footprint fish.footprint\n",
       "1 0.5837398          0.2373171         0.3822764        0.1276423     \n",
       "  carbon.footprint\n",
       "1 1.814146        "
      ]
     },
     "metadata": {},
     "output_type": "display_data"
    }
   ],
   "source": [
    "# the following steps give a summary of the data, using only the training set. \n",
    "\n",
    "# table showing the distribution between the different categories for the training data\n",
    "countries_train_categories <- countries_train %>%\n",
    "    select(GDP_classified) %>%\n",
    "    group_by(GDP_classified) %>%\n",
    "    summarise(n = n())\n",
    "\n",
    "countries_train_categories\n",
    "\n",
    "# table giving the means of each of the predictors\n",
    "countries_train_predictors <- countries_train %>%\n",
    "    select(cropland.footprint, grazing.footprint, forest.footprint, fish.footprint, carbon.footprint)\n",
    "\n",
    "mean_of_predictors <- map_df(countries_train_predictors, mean)\n",
    "\n",
    "mean_of_predictors"
   ]
  },
  {
   "cell_type": "markdown",
   "metadata": {},
   "source": [
    "We want to create the recipe for our algorithm. We also want to perform a cross-validation because we want to find the most optimal $k$ value for our k-nn classification. We then want to collect the metrics from the workflow analysis."
   ]
  },
  {
   "cell_type": "code",
   "execution_count": 10,
   "metadata": {},
   "outputs": [
    {
     "data": {
      "text/html": [
       "<table>\n",
       "<caption>A tibble: 60 × 7</caption>\n",
       "<thead>\n",
       "\t<tr><th scope=col>neighbors</th><th scope=col>.metric</th><th scope=col>.estimator</th><th scope=col>mean</th><th scope=col>n</th><th scope=col>std_err</th><th scope=col>.config</th></tr>\n",
       "\t<tr><th scope=col>&lt;int&gt;</th><th scope=col>&lt;chr&gt;</th><th scope=col>&lt;chr&gt;</th><th scope=col>&lt;dbl&gt;</th><th scope=col>&lt;int&gt;</th><th scope=col>&lt;dbl&gt;</th><th scope=col>&lt;chr&gt;</th></tr>\n",
       "</thead>\n",
       "<tbody>\n",
       "\t<tr><td>1</td><td>accuracy</td><td>multiclass</td><td>0.4796296</td><td>5</td><td>0.03090429</td><td>Model01</td></tr>\n",
       "\t<tr><td>1</td><td>roc_auc </td><td>hand_till </td><td>0.6539683</td><td>5</td><td>0.02063492</td><td>Model01</td></tr>\n",
       "\t<tr><td>2</td><td>accuracy</td><td>multiclass</td><td>0.4796296</td><td>5</td><td>0.03090429</td><td>Model02</td></tr>\n",
       "\t<tr><td>⋮</td><td>⋮</td><td>⋮</td><td>⋮</td><td>⋮</td><td>⋮</td><td>⋮</td></tr>\n",
       "\t<tr><td>29</td><td>roc_auc </td><td>hand_till </td><td>0.7969860</td><td>5</td><td>0.01165516</td><td>Model29</td></tr>\n",
       "\t<tr><td>30</td><td>accuracy</td><td>multiclass</td><td>0.5611111</td><td>5</td><td>0.02087958</td><td>Model30</td></tr>\n",
       "\t<tr><td>30</td><td>roc_auc </td><td>hand_till </td><td>0.8043509</td><td>5</td><td>0.01321726</td><td>Model30</td></tr>\n",
       "</tbody>\n",
       "</table>\n"
      ],
      "text/latex": [
       "A tibble: 60 × 7\n",
       "\\begin{tabular}{lllllll}\n",
       " neighbors & .metric & .estimator & mean & n & std\\_err & .config\\\\\n",
       " <int> & <chr> & <chr> & <dbl> & <int> & <dbl> & <chr>\\\\\n",
       "\\hline\n",
       "\t 1 & accuracy & multiclass & 0.4796296 & 5 & 0.03090429 & Model01\\\\\n",
       "\t 1 & roc\\_auc  & hand\\_till  & 0.6539683 & 5 & 0.02063492 & Model01\\\\\n",
       "\t 2 & accuracy & multiclass & 0.4796296 & 5 & 0.03090429 & Model02\\\\\n",
       "\t ⋮ & ⋮ & ⋮ & ⋮ & ⋮ & ⋮ & ⋮\\\\\n",
       "\t 29 & roc\\_auc  & hand\\_till  & 0.7969860 & 5 & 0.01165516 & Model29\\\\\n",
       "\t 30 & accuracy & multiclass & 0.5611111 & 5 & 0.02087958 & Model30\\\\\n",
       "\t 30 & roc\\_auc  & hand\\_till  & 0.8043509 & 5 & 0.01321726 & Model30\\\\\n",
       "\\end{tabular}\n"
      ],
      "text/markdown": [
       "\n",
       "A tibble: 60 × 7\n",
       "\n",
       "| neighbors &lt;int&gt; | .metric &lt;chr&gt; | .estimator &lt;chr&gt; | mean &lt;dbl&gt; | n &lt;int&gt; | std_err &lt;dbl&gt; | .config &lt;chr&gt; |\n",
       "|---|---|---|---|---|---|---|\n",
       "| 1 | accuracy | multiclass | 0.4796296 | 5 | 0.03090429 | Model01 |\n",
       "| 1 | roc_auc  | hand_till  | 0.6539683 | 5 | 0.02063492 | Model01 |\n",
       "| 2 | accuracy | multiclass | 0.4796296 | 5 | 0.03090429 | Model02 |\n",
       "| ⋮ | ⋮ | ⋮ | ⋮ | ⋮ | ⋮ | ⋮ |\n",
       "| 29 | roc_auc  | hand_till  | 0.7969860 | 5 | 0.01165516 | Model29 |\n",
       "| 30 | accuracy | multiclass | 0.5611111 | 5 | 0.02087958 | Model30 |\n",
       "| 30 | roc_auc  | hand_till  | 0.8043509 | 5 | 0.01321726 | Model30 |\n",
       "\n"
      ],
      "text/plain": [
       "   neighbors .metric  .estimator mean      n std_err    .config\n",
       "1  1         accuracy multiclass 0.4796296 5 0.03090429 Model01\n",
       "2  1         roc_auc  hand_till  0.6539683 5 0.02063492 Model01\n",
       "3  2         accuracy multiclass 0.4796296 5 0.03090429 Model02\n",
       "⋮  ⋮         ⋮        ⋮          ⋮         ⋮ ⋮          ⋮      \n",
       "58 29        roc_auc  hand_till  0.7969860 5 0.01165516 Model29\n",
       "59 30        accuracy multiclass 0.5611111 5 0.02087958 Model30\n",
       "60 30        roc_auc  hand_till  0.8043509 5 0.01321726 Model30"
      ]
     },
     "metadata": {},
     "output_type": "display_data"
    }
   ],
   "source": [
    "set.seed(1)\n",
    "#creating our recipe\n",
    "countries_recipe <- recipe(GDP_classified ~ cropland.footprint + grazing.footprint + forest.footprint + \n",
    "                           fish.footprint + carbon.footprint, data = countries_train) %>%\n",
    "    step_scale(all_predictors()) %>%\n",
    "    step_center(all_predictors())\n",
    "\n",
    "#specifications for our model\n",
    "knn_tune <- nearest_neighbor(weight_func = \"rectangular\", neighbors = tune()) %>%\n",
    "    set_engine(\"kknn\") %>%\n",
    "    set_mode(\"classification\")\n",
    "\n",
    "#cross-validation\n",
    "countries_vfold <- vfold_cv(countries_train, v = 5, strata = GDP_classified)\n",
    "\n",
    "grid_vals <- tibble(neighbors = seq(1, 30))\n",
    "\n",
    "#workflow analysis metrics\n",
    "countries_results <- workflow() %>%\n",
    "    add_recipe(countries_recipe) %>%\n",
    "    add_model(knn_tune) %>%\n",
    "    tune_grid(resamples = countries_vfold, grid = grid_vals) %>%\n",
    "    collect_metrics()\n",
    "\n",
    "countries_results"
   ]
  },
  {
   "cell_type": "markdown",
   "metadata": {},
   "source": [
    "The metrics are now used in order to graph out the $k$ value vs the Accuracy Estimate. We use this graph to find the best $k$ value for our dataset."
   ]
  },
  {
   "cell_type": "code",
   "execution_count": 11,
   "metadata": {},
   "outputs": [
    {
     "data": {
      "text/html": [
       "20"
      ],
      "text/latex": [
       "20"
      ],
      "text/markdown": [
       "20"
      ],
      "text/plain": [
       "[1] 20"
      ]
     },
     "metadata": {},
     "output_type": "display_data"
    },
    {
     "data": {
      "image/png": "[encoded data removed]",
      "text/plain": [
       "plot without title"
      ]
     },
     "metadata": {
      "image/png": {
       "height": 300,
       "width": 1200
      }
     },
     "output_type": "display_data"
    }
   ],
   "source": [
    "#filtering out the metrics to only display accuracy\n",
    "accuracies <- countries_results %>% \n",
    "      filter(.metric == \"accuracy\")\n",
    "\n",
    "#plotting out the k vs accuracy estimate in order to visualize the relationship between them.\n",
    "cross_val_plot <- ggplot(accuracies, aes(x = neighbors, y = mean))+\n",
    "      geom_point() +\n",
    "      geom_line() +\n",
    "      labs(x = \"Neighbors\", y = \"Accuracy Estimate\") +\n",
    "      scale_x_continuous(breaks = seq(0, 30, by = 1)) +\n",
    "      scale_y_continuous(limits = c(0.4, 1.0))\n",
    "\n",
    "cross_val_plot\n",
    "\n",
    "\n",
    "#finding the k value with the highest accuracy\n",
    "kmax <- accuracies %>%\n",
    "    filter(mean == max(mean)) %>%\n",
    "    pull(neighbors)\n",
    "\n",
    "kmax"
   ]
  },
  {
   "cell_type": "markdown",
   "metadata": {},
   "source": [
    "From the graph above we can choose the best $k$ value for our specifications. We will choose the $k$ = 20 value because it seems to be the most accurate and it most likely will not over-fit or under-fit."
   ]
  },
  {
   "cell_type": "code",
   "execution_count": 12,
   "metadata": {},
   "outputs": [],
   "source": [
    "set.seed(2) \n",
    "\n",
    "# creating new knn specification using the k value we got from the graph\n",
    "knn_spec <- nearest_neighbor(weight_func = \"rectangular\", neighbor = kmax) %>%\n",
    "    set_engine(\"kknn\") %>%\n",
    "    set_mode(\"classification\")\n",
    "\n",
    "# creating the fit using the training data\n",
    "countries_fit <- workflow() %>%\n",
    "      add_recipe(countries_recipe) %>%\n",
    "      add_model(knn_spec) %>%\n",
    "      fit(data = countries_train)"
   ]
  },
  {
   "cell_type": "code",
   "execution_count": 13,
   "metadata": {},
   "outputs": [
    {
     "data": {
      "text/html": [
       "<table>\n",
       "<caption>A tibble: 40 × 9</caption>\n",
       "<thead>\n",
       "\t<tr><th scope=col>.pred_class</th><th scope=col>country</th><th scope=col>cropland.footprint</th><th scope=col>grazing.footprint</th><th scope=col>forest.footprint</th><th scope=col>fish.footprint</th><th scope=col>carbon.footprint</th><th scope=col>gdp.per.capita</th><th scope=col>GDP_classified</th></tr>\n",
       "\t<tr><th scope=col>&lt;fct&gt;</th><th scope=col>&lt;chr&gt;</th><th scope=col>&lt;dbl&gt;</th><th scope=col>&lt;dbl&gt;</th><th scope=col>&lt;dbl&gt;</th><th scope=col>&lt;dbl&gt;</th><th scope=col>&lt;dbl&gt;</th><th scope=col>&lt;dbl&gt;</th><th scope=col>&lt;fct&gt;</th></tr>\n",
       "</thead>\n",
       "<tbody>\n",
       "\t<tr><td>low</td><td>Madagascar              </td><td>0.27</td><td>0.34</td><td>0.24</td><td>0.02</td><td>0.07</td><td>456.33</td><td>low</td></tr>\n",
       "\t<tr><td>low</td><td>Malawi                  </td><td>0.43</td><td>0.05</td><td>0.20</td><td>0.01</td><td>0.07</td><td>493.84</td><td>low</td></tr>\n",
       "\t<tr><td>low</td><td>Central African Republic</td><td>0.30</td><td>0.55</td><td>0.26</td><td>0.02</td><td>0.08</td><td>495.04</td><td>low</td></tr>\n",
       "\t<tr><td>⋮</td><td>⋮</td><td>⋮</td><td>⋮</td><td>⋮</td><td>⋮</td><td>⋮</td><td>⋮</td><td>⋮</td></tr>\n",
       "\t<tr><td>high</td><td>Singapore  </td><td>0.67</td><td>0.24</td><td>0.91</td><td>0.22</td><td>5.91</td><td>53122.4</td><td>high</td></tr>\n",
       "\t<tr><td>high</td><td>Australia  </td><td>2.68</td><td>0.63</td><td>0.89</td><td>0.11</td><td>4.85</td><td>66604.2</td><td>high</td></tr>\n",
       "\t<tr><td>high</td><td>Switzerland</td><td>0.75</td><td>0.22</td><td>0.38</td><td>0.07</td><td>4.26</td><td>88506.2</td><td>high</td></tr>\n",
       "</tbody>\n",
       "</table>\n"
      ],
      "text/latex": [
       "A tibble: 40 × 9\n",
       "\\begin{tabular}{lllllllll}\n",
       " .pred\\_class & country & cropland.footprint & grazing.footprint & forest.footprint & fish.footprint & carbon.footprint & gdp.per.capita & GDP\\_classified\\\\\n",
       " <fct> & <chr> & <dbl> & <dbl> & <dbl> & <dbl> & <dbl> & <dbl> & <fct>\\\\\n",
       "\\hline\n",
       "\t low & Madagascar               & 0.27 & 0.34 & 0.24 & 0.02 & 0.07 & 456.33 & low\\\\\n",
       "\t low & Malawi                   & 0.43 & 0.05 & 0.20 & 0.01 & 0.07 & 493.84 & low\\\\\n",
       "\t low & Central African Republic & 0.30 & 0.55 & 0.26 & 0.02 & 0.08 & 495.04 & low\\\\\n",
       "\t ⋮ & ⋮ & ⋮ & ⋮ & ⋮ & ⋮ & ⋮ & ⋮ & ⋮\\\\\n",
       "\t high & Singapore   & 0.67 & 0.24 & 0.91 & 0.22 & 5.91 & 53122.4 & high\\\\\n",
       "\t high & Australia   & 2.68 & 0.63 & 0.89 & 0.11 & 4.85 & 66604.2 & high\\\\\n",
       "\t high & Switzerland & 0.75 & 0.22 & 0.38 & 0.07 & 4.26 & 88506.2 & high\\\\\n",
       "\\end{tabular}\n"
      ],
      "text/markdown": [
       "\n",
       "A tibble: 40 × 9\n",
       "\n",
       "| .pred_class &lt;fct&gt; | country &lt;chr&gt; | cropland.footprint &lt;dbl&gt; | grazing.footprint &lt;dbl&gt; | forest.footprint &lt;dbl&gt; | fish.footprint &lt;dbl&gt; | carbon.footprint &lt;dbl&gt; | gdp.per.capita &lt;dbl&gt; | GDP_classified &lt;fct&gt; |\n",
       "|---|---|---|---|---|---|---|---|---|\n",
       "| low | Madagascar               | 0.27 | 0.34 | 0.24 | 0.02 | 0.07 | 456.33 | low |\n",
       "| low | Malawi                   | 0.43 | 0.05 | 0.20 | 0.01 | 0.07 | 493.84 | low |\n",
       "| low | Central African Republic | 0.30 | 0.55 | 0.26 | 0.02 | 0.08 | 495.04 | low |\n",
       "| ⋮ | ⋮ | ⋮ | ⋮ | ⋮ | ⋮ | ⋮ | ⋮ | ⋮ |\n",
       "| high | Singapore   | 0.67 | 0.24 | 0.91 | 0.22 | 5.91 | 53122.4 | high |\n",
       "| high | Australia   | 2.68 | 0.63 | 0.89 | 0.11 | 4.85 | 66604.2 | high |\n",
       "| high | Switzerland | 0.75 | 0.22 | 0.38 | 0.07 | 4.26 | 88506.2 | high |\n",
       "\n"
      ],
      "text/plain": [
       "   .pred_class country                  cropland.footprint grazing.footprint\n",
       "1  low         Madagascar               0.27               0.34             \n",
       "2  low         Malawi                   0.43               0.05             \n",
       "3  low         Central African Republic 0.30               0.55             \n",
       "⋮  ⋮           ⋮                        ⋮                  ⋮                \n",
       "38 high        Singapore                0.67               0.24             \n",
       "39 high        Australia                2.68               0.63             \n",
       "40 high        Switzerland              0.75               0.22             \n",
       "   forest.footprint fish.footprint carbon.footprint gdp.per.capita\n",
       "1  0.24             0.02           0.07             456.33        \n",
       "2  0.20             0.01           0.07             493.84        \n",
       "3  0.26             0.02           0.08             495.04        \n",
       "⋮  ⋮                ⋮              ⋮                ⋮             \n",
       "38 0.91             0.22           5.91             53122.4       \n",
       "39 0.89             0.11           4.85             66604.2       \n",
       "40 0.38             0.07           4.26             88506.2       \n",
       "   GDP_classified\n",
       "1  low           \n",
       "2  low           \n",
       "3  low           \n",
       "⋮  ⋮             \n",
       "38 high          \n",
       "39 high          \n",
       "40 high          "
      ]
     },
     "metadata": {},
     "output_type": "display_data"
    },
    {
     "data": {
      "text/html": [
       "<table>\n",
       "<caption>A tibble: 2 × 3</caption>\n",
       "<thead>\n",
       "\t<tr><th scope=col>.metric</th><th scope=col>.estimator</th><th scope=col>.estimate</th></tr>\n",
       "\t<tr><th scope=col>&lt;chr&gt;</th><th scope=col>&lt;chr&gt;</th><th scope=col>&lt;dbl&gt;</th></tr>\n",
       "</thead>\n",
       "<tbody>\n",
       "\t<tr><td>accuracy</td><td>multiclass</td><td>0.6000000</td></tr>\n",
       "\t<tr><td>kap     </td><td>multiclass</td><td>0.4666667</td></tr>\n",
       "</tbody>\n",
       "</table>\n"
      ],
      "text/latex": [
       "A tibble: 2 × 3\n",
       "\\begin{tabular}{lll}\n",
       " .metric & .estimator & .estimate\\\\\n",
       " <chr> & <chr> & <dbl>\\\\\n",
       "\\hline\n",
       "\t accuracy & multiclass & 0.6000000\\\\\n",
       "\t kap      & multiclass & 0.4666667\\\\\n",
       "\\end{tabular}\n"
      ],
      "text/markdown": [
       "\n",
       "A tibble: 2 × 3\n",
       "\n",
       "| .metric &lt;chr&gt; | .estimator &lt;chr&gt; | .estimate &lt;dbl&gt; |\n",
       "|---|---|---|\n",
       "| accuracy | multiclass | 0.6000000 |\n",
       "| kap      | multiclass | 0.4666667 |\n",
       "\n"
      ],
      "text/plain": [
       "  .metric  .estimator .estimate\n",
       "1 accuracy multiclass 0.6000000\n",
       "2 kap      multiclass 0.4666667"
      ]
     },
     "metadata": {},
     "output_type": "display_data"
    },
    {
     "data": {
      "text/plain": [
       "              Truth\n",
       "Prediction     low lower middle upper middle high\n",
       "  low           10            6            1    0\n",
       "  lower middle   0            2            2    0\n",
       "  upper middle   0            2            4    2\n",
       "  high           0            0            3    8"
      ]
     },
     "metadata": {},
     "output_type": "display_data"
    }
   ],
   "source": [
    "set.seed(2) \n",
    "\n",
    "# predicting the GDP_classified of the test data\n",
    "countries_predictions <- predict(countries_fit, countries_test) %>%\n",
    "    bind_cols(countries_test)\n",
    "\n",
    "countries_predictions\n",
    "\n",
    "# finding the accuracy of the prediction\n",
    "countries_metrics <- countries_predictions %>%\n",
    "    metrics(truth = GDP_classified, estimate = .pred_class)\n",
    "\n",
    "countries_metrics\n",
    "\n",
    "# finding the confusion matrix of the prediction\n",
    "countries_conf_mat <- countries_predictions %>%\n",
    "    conf_mat(truth = GDP_classified, estimate = .pred_class)\n",
    "\n",
    "countries_conf_mat"
   ]
  },
  {
   "cell_type": "markdown",
   "metadata": {},
   "source": [
    "We can see that even with the most optimal $k$ value, we still have a very low accuracy. The algorithm seems to struggle the most with distinguishing between the lower middle and the low categories. This might be because both of them are very similar."
   ]
  },
  {
   "cell_type": "code",
   "execution_count": 14,
   "metadata": {},
   "outputs": [
    {
     "data": {
      "text/html": [
       "<table>\n",
       "<caption>A tibble: 200 × 6</caption>\n",
       "<thead>\n",
       "\t<tr><th scope=col>.pred_class</th><th scope=col>country</th><th scope=col>gdp.per.capita</th><th scope=col>GDP_classified</th><th scope=col>footprint.name</th><th scope=col>footprint.value</th></tr>\n",
       "\t<tr><th scope=col>&lt;fct&gt;</th><th scope=col>&lt;chr&gt;</th><th scope=col>&lt;dbl&gt;</th><th scope=col>&lt;fct&gt;</th><th scope=col>&lt;chr&gt;</th><th scope=col>&lt;dbl&gt;</th></tr>\n",
       "</thead>\n",
       "<tbody>\n",
       "\t<tr><td>low</td><td>Madagascar</td><td>456.33</td><td>low</td><td>cropland.footprint</td><td>0.27</td></tr>\n",
       "\t<tr><td>low</td><td>Madagascar</td><td>456.33</td><td>low</td><td>grazing.footprint </td><td>0.34</td></tr>\n",
       "\t<tr><td>low</td><td>Madagascar</td><td>456.33</td><td>low</td><td>forest.footprint  </td><td>0.24</td></tr>\n",
       "\t<tr><td>⋮</td><td>⋮</td><td>⋮</td><td>⋮</td><td>⋮</td><td>⋮</td></tr>\n",
       "\t<tr><td>high</td><td>Switzerland</td><td>88506.2</td><td>high</td><td>forest.footprint</td><td>0.38</td></tr>\n",
       "\t<tr><td>high</td><td>Switzerland</td><td>88506.2</td><td>high</td><td>fish.footprint  </td><td>0.07</td></tr>\n",
       "\t<tr><td>high</td><td>Switzerland</td><td>88506.2</td><td>high</td><td>carbon.footprint</td><td>4.26</td></tr>\n",
       "</tbody>\n",
       "</table>\n"
      ],
      "text/latex": [
       "A tibble: 200 × 6\n",
       "\\begin{tabular}{llllll}\n",
       " .pred\\_class & country & gdp.per.capita & GDP\\_classified & footprint.name & footprint.value\\\\\n",
       " <fct> & <chr> & <dbl> & <fct> & <chr> & <dbl>\\\\\n",
       "\\hline\n",
       "\t low & Madagascar & 456.33 & low & cropland.footprint & 0.27\\\\\n",
       "\t low & Madagascar & 456.33 & low & grazing.footprint  & 0.34\\\\\n",
       "\t low & Madagascar & 456.33 & low & forest.footprint   & 0.24\\\\\n",
       "\t ⋮ & ⋮ & ⋮ & ⋮ & ⋮ & ⋮\\\\\n",
       "\t high & Switzerland & 88506.2 & high & forest.footprint & 0.38\\\\\n",
       "\t high & Switzerland & 88506.2 & high & fish.footprint   & 0.07\\\\\n",
       "\t high & Switzerland & 88506.2 & high & carbon.footprint & 4.26\\\\\n",
       "\\end{tabular}\n"
      ],
      "text/markdown": [
       "\n",
       "A tibble: 200 × 6\n",
       "\n",
       "| .pred_class &lt;fct&gt; | country &lt;chr&gt; | gdp.per.capita &lt;dbl&gt; | GDP_classified &lt;fct&gt; | footprint.name &lt;chr&gt; | footprint.value &lt;dbl&gt; |\n",
       "|---|---|---|---|---|---|\n",
       "| low | Madagascar | 456.33 | low | cropland.footprint | 0.27 |\n",
       "| low | Madagascar | 456.33 | low | grazing.footprint  | 0.34 |\n",
       "| low | Madagascar | 456.33 | low | forest.footprint   | 0.24 |\n",
       "| ⋮ | ⋮ | ⋮ | ⋮ | ⋮ | ⋮ |\n",
       "| high | Switzerland | 88506.2 | high | forest.footprint | 0.38 |\n",
       "| high | Switzerland | 88506.2 | high | fish.footprint   | 0.07 |\n",
       "| high | Switzerland | 88506.2 | high | carbon.footprint | 4.26 |\n",
       "\n"
      ],
      "text/plain": [
       "    .pred_class country     gdp.per.capita GDP_classified footprint.name    \n",
       "1   low         Madagascar  456.33         low            cropland.footprint\n",
       "2   low         Madagascar  456.33         low            grazing.footprint \n",
       "3   low         Madagascar  456.33         low            forest.footprint  \n",
       "⋮   ⋮           ⋮           ⋮              ⋮              ⋮                 \n",
       "198 high        Switzerland 88506.2        high           forest.footprint  \n",
       "199 high        Switzerland 88506.2        high           fish.footprint    \n",
       "200 high        Switzerland 88506.2        high           carbon.footprint  \n",
       "    footprint.value\n",
       "1   0.27           \n",
       "2   0.34           \n",
       "3   0.24           \n",
       "⋮   ⋮              \n",
       "198 0.38           \n",
       "199 0.07           \n",
       "200 4.26           "
      ]
     },
     "metadata": {},
     "output_type": "display_data"
    }
   ],
   "source": [
    "prediction_long <- pivot_longer(countries_predictions,\n",
    "  cols = cropland.footprint:carbon.footprint,\n",
    "  names_to = \"footprint.name\",\n",
    "  values_to = \"footprint.value\"\n",
    ")\n",
    "prediction_long"
   ]
  },
  {
   "cell_type": "code",
   "execution_count": 15,
   "metadata": {},
   "outputs": [
    {
     "data": {
      "image/png": "[encoded data removed]",
      "text/plain": [
       "plot without title"
      ]
     },
     "metadata": {
      "image/png": {
       "height": 300,
       "width": 1200
      }
     },
     "output_type": "display_data"
    }
   ],
   "source": [
    "options(repr.plot.width = 20, repr.plot.height = 5)\n",
    "\n",
    "footprint_labels <- c(carbon.footprint = \"Carbon Footprint\",\n",
    "                      cropland.footprint = \"Cropland Footprint\",\n",
    "                      fish.footprint = \"Fish Footprint\",\n",
    "                      forest.footprint = \"Forest Footprint\",\n",
    "                      grazing.footprint = \"Grazing Footprint\")\n",
    "\n",
    "footprint_gdp_graphs <- prediction_long %>%\n",
    "   ggplot(aes(x = footprint.value, y = gdp.per.capita)) +\n",
    "   geom_point(aes(colour = GDP_classified)) +\n",
    "   labs(x = \"Footprint\", y = \"GDP Per Capita\", colour = \"GDP Classification\") +\n",
    "   facet_grid(~ footprint.name,\n",
    "              scales = \"free\",\n",
    "              labeller = labeller(footprint.name = footprint_labels)) +\n",
    "   theme(text = element_text(size=15))\n",
    "\n",
    "footprint_gdp_graphs"
   ]
  },
  {
   "cell_type": "code",
   "execution_count": null,
   "metadata": {},
   "outputs": [],
   "source": []
  }
 ],
 "metadata": {
  "kernelspec": {
   "display_name": "R",
   "language": "R",
   "name": "ir"
  },
  "language_info": {
   "codemirror_mode": "r",
   "file_extension": ".r",
   "mimetype": "text/x-r-source",
   "name": "R",
   "pygments_lexer": "r",
   "version": "4.0.0"
  }
 },
 "nbformat": 4,
 "nbformat_minor": 4
}
